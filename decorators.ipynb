{
 "cells": [
  {
   "cell_type": "code",
   "execution_count": 3,
   "id": "4804d20e-9b4c-433c-94ed-5ff7151002dd",
   "metadata": {},
   "outputs": [],
   "source": [
    "def greet():\n",
    "    def hello():\n",
    "        print('Hello dear')\n",
    "    print('Greetings')\n",
    "    return hello()"
   ]
  },
  {
   "cell_type": "code",
   "execution_count": 4,
   "id": "a48c99d3-0845-4528-8441-df8295d72644",
   "metadata": {},
   "outputs": [
    {
     "name": "stdout",
     "output_type": "stream",
     "text": [
      "Greetings\n",
      "Hello dear\n"
     ]
    }
   ],
   "source": [
    "greet()"
   ]
  },
  {
   "cell_type": "code",
   "execution_count": 5,
   "id": "bec78118-f9c5-4eb1-a435-b9d54881b7ac",
   "metadata": {},
   "outputs": [],
   "source": [
    "def greet(func):\n",
    "    def hello():\n",
    "        print('Hello dear')\n",
    "        func()\n",
    "    print('Greetings')\n",
    "    return hello()"
   ]
  },
  {
   "cell_type": "code",
   "execution_count": 8,
   "id": "18aa2862-f0dd-4542-a3f5-4cc8ad584ac2",
   "metadata": {},
   "outputs": [
    {
     "name": "stdout",
     "output_type": "stream",
     "text": [
      "Greetings\n",
      "Hello dear\n",
      "Thanks\n"
     ]
    }
   ],
   "source": [
    "@greet\n",
    "def compliment():\n",
    "    print('Thanks')"
   ]
  },
  {
   "cell_type": "code",
   "execution_count": 10,
   "id": "5f9541e7-e386-4bd9-ba37-0303ea83f7b6",
   "metadata": {},
   "outputs": [],
   "source": [
    "def add(x):\n",
    "    return x+1"
   ]
  },
  {
   "cell_type": "code",
   "execution_count": 11,
   "id": "7b15a60a-6b4e-4a8c-8b45-fb07cad6f036",
   "metadata": {},
   "outputs": [],
   "source": [
    "def sub(x):\n",
    "    return x-1"
   ]
  },
  {
   "cell_type": "code",
   "execution_count": 12,
   "id": "efb9d8e4-1b86-4284-a03e-b6063feb9ec5",
   "metadata": {},
   "outputs": [],
   "source": [
    "def operate(func,x):\n",
    "    result = func(x)\n",
    "    return result"
   ]
  },
  {
   "cell_type": "code",
   "execution_count": 14,
   "id": "ad09208a-210f-44a5-94cb-9ee6ec72fa15",
   "metadata": {},
   "outputs": [
    {
     "data": {
      "text/plain": [
       "6"
      ]
     },
     "execution_count": 14,
     "metadata": {},
     "output_type": "execute_result"
    }
   ],
   "source": [
    "operate(add,5)"
   ]
  },
  {
   "cell_type": "code",
   "execution_count": 17,
   "id": "8784d5b8-06f5-4bf3-8ce9-2ea720f643d3",
   "metadata": {},
   "outputs": [],
   "source": [
    "from math import *"
   ]
  },
  {
   "cell_type": "code",
   "execution_count": 21,
   "id": "c053395d-a4bd-461d-a5a1-4e33a18ef74f",
   "metadata": {},
   "outputs": [
    {
     "data": {
      "text/plain": [
       "8.0"
      ]
     },
     "execution_count": 21,
     "metadata": {},
     "output_type": "execute_result"
    }
   ],
   "source": [
    "operate(sqrt,64)"
   ]
  },
  {
   "cell_type": "code",
   "execution_count": 23,
   "id": "f0cf18ee-9bda-45da-9c8c-0545f26853c0",
   "metadata": {},
   "outputs": [],
   "source": [
    "def repeat(n):\n",
    "    def decorator(func):\n",
    "        def wrapper(*args, **kwargs):\n",
    "            for _ in range(n):\n",
    "                func(*args, **kwargs)\n",
    "        return wrapper\n",
    "    return decorator\n",
    "        "
   ]
  },
  {
   "cell_type": "code",
   "execution_count": 32,
   "id": "77e669c2-4355-404f-9d4d-744918e683f1",
   "metadata": {},
   "outputs": [],
   "source": [
    "@repeat(2)\n",
    "def read():\n",
    "    print('I read always')"
   ]
  },
  {
   "cell_type": "code",
   "execution_count": 33,
   "id": "8f99774d-9cf1-4539-a779-7896fde084ed",
   "metadata": {},
   "outputs": [
    {
     "name": "stdout",
     "output_type": "stream",
     "text": [
      "I read always\n",
      "I read always\n"
     ]
    }
   ],
   "source": [
    "read()"
   ]
  },
  {
   "cell_type": "markdown",
   "id": "529c07ff-98f2-405f-bd41-4f4f749f0b3f",
   "metadata": {
    "jupyter": {
     "source_hidden": true
    }
   },
   "source": [
    "In Python, `*args` and `**kwargs` are used to allow a function to accept a variable number of arguments. They provide a flexible way to define functions that can take a varying number of positional and keyword arguments.\n",
    "\n",
    "1. **`*args`:**\n",
    "   - The `*args` syntax in a function definition allows the function to accept any number of positional arguments.\n",
    "   - The `args` name is a convention, but you can use any name preceded by an asterisk (*).\n",
    "\n",
    "   Example:\n",
    "\n",
    "    ```python\n",
    "    def example_function(*args):\n",
    "        for arg in args:\n",
    "            print(arg)\n",
    "\n",
    "    example_function(1, 2, 3, \"four\")\n",
    "    ```\n",
    "\n",
    "   Output:\n",
    "   ```\n",
    "   1\n",
    "   2\n",
    "   3\n",
    "   four\n",
    "   ```\n",
    "\n",
    "2. **`**kwargs`:**\n",
    "   - The `**kwargs` syntax in a function definition allows the function to accept any number of keyword arguments.\n",
    "   - The `kwargs` name is a convention, but you can use any name preceded by two asterisks (**).\n",
    "\n",
    "   Example:\n",
    "\n",
    "    ```python\n",
    "    def example_function(**kwargs):\n",
    "        for key, value in kwargs.items():\n",
    "            print(f\"{key}: {value}\")\n",
    "\n",
    "    example_function(name=\"John\", age=25, city=\"New York\")\n",
    "    ```\n",
    "\n",
    "   Output:\n",
    "   ```\n",
    "   name: John\n",
    "   age: 25\n",
    "   city: New York\n",
    "   ```\n",
    "\n",
    "3. **Combining `*args` and `**kwargs`:**\n",
    "   - You can use both `*args` and `**kwargs` in the same function definition to allow for maximum flexibility in terms of arguments.\n",
    "\n",
    "   Example:\n",
    "\n",
    "    ```python\n",
    "    def example_function(arg1, *args, kwarg1=\"default\", **kwargs):\n",
    "        print(f\"arg1: {arg1}\")\n",
    "        print(f\"args: {args}\")\n",
    "        print(f\"kwarg1: {kwarg1}\")\n",
    "        print(f\"kwargs: {kwargs}\")\n",
    "\n",
    "    example_function(1, 2, 3, kwarg1=\"custom\", name=\"John\", age=25)\n",
    "    ```\n",
    "\n",
    "   Output:\n",
    "   ```\n",
    "   arg1: 1\n",
    "   args: (2, 3)\n",
    "   kwarg1: custom\n",
    "   kwargs: {'name': 'John', 'age': 25}\n",
    "   ```\n",
    "\n",
    "In summary:\n",
    "- `*args` collects additional positional arguments into a tuple.\n",
    "- `**kwargs` collects additional keyword arguments into a dictionary.\n",
    "\n",
    "These constructs provide a way to make functions more versatile, allowing them to handle a varying number of arguments without having to explicitly define each one. They are commonly used in situations where the exact number of arguments is not known in advance, such as in decorators or when designing generic functions."
   ]
  },
  {
   "cell_type": "code",
   "execution_count": null,
   "id": "bfffe27a-43e6-4958-921a-f38aff12d1f0",
   "metadata": {},
   "outputs": [],
   "source": []
  }
 ],
 "metadata": {
  "kernelspec": {
   "display_name": "Python 3 (ipykernel)",
   "language": "python",
   "name": "python3"
  },
  "language_info": {
   "codemirror_mode": {
    "name": "ipython",
    "version": 3
   },
   "file_extension": ".py",
   "mimetype": "text/x-python",
   "name": "python",
   "nbconvert_exporter": "python",
   "pygments_lexer": "ipython3",
   "version": "3.10.13"
  }
 },
 "nbformat": 4,
 "nbformat_minor": 5
}
