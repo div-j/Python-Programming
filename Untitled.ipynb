{
 "cells": [
  {
   "cell_type": "markdown",
   "id": "cbedb53c-ae13-42f5-ab23-6b4552a7e814",
   "metadata": {},
   "source": [
    "## Regular Experession\n",
    "A regular expression is a set of characters with highly specialized syntax that we can use to find or match other characters or groups of characters. In short, regular expressions, or Regex, are widely used in the UNIX world."
   ]
  },
  {
   "cell_type": "code",
   "execution_count": 1,
   "id": "7860973b-bbf0-402d-9df0-679fb18ed18d",
   "metadata": {},
   "outputs": [],
   "source": [
    "# Importing re module  \n",
    "import re  "
   ]
  },
  {
   "cell_type": "code",
   "execution_count": 16,
   "id": "eb6a5a16-7f40-442c-b989-c21234120720",
   "metadata": {},
   "outputs": [],
   "source": [
    "# Defining regEx pattern  \n",
    "pattern = \"is\"  "
   ]
  },
  {
   "cell_type": "code",
   "execution_count": 17,
   "id": "977d9022-5fb5-45b8-ad19-eefcd6f9fe4f",
   "metadata": {},
   "outputs": [],
   "source": [
    "regex_object = re.compile(pattern)  "
   ]
  },
  {
   "cell_type": "code",
   "execution_count": 18,
   "id": "d5d7a3ed-7847-4915-8790-f220cdccc6a8",
   "metadata": {},
   "outputs": [
    {
     "data": {
      "text/plain": [
       "re.compile(r'is', re.UNICODE)"
      ]
     },
     "execution_count": 18,
     "metadata": {},
     "output_type": "execute_result"
    }
   ],
   "source": [
    "regex_object"
   ]
  },
  {
   "cell_type": "code",
   "execution_count": 19,
   "id": "141ab644-74cf-4490-8342-74b0a3b465f4",
   "metadata": {},
   "outputs": [],
   "source": [
    "text = \"This Python class is amazing!\""
   ]
  },
  {
   "cell_type": "code",
   "execution_count": 20,
   "id": "e228db32-b2cd-4fd7-91c2-fdd379c426f0",
   "metadata": {},
   "outputs": [],
   "source": [
    "# Searching for the pattern in the string  \n",
    "match_object = regex_object.search(text) "
   ]
  },
  {
   "cell_type": "code",
   "execution_count": 21,
   "id": "352b014d-178a-4c52-a187-b8a439723069",
   "metadata": {},
   "outputs": [
    {
     "data": {
      "text/plain": [
       "<re.Match object; span=(2, 4), match='is'>"
      ]
     },
     "execution_count": 21,
     "metadata": {},
     "output_type": "execute_result"
    }
   ],
   "source": [
    "match_object"
   ]
  },
  {
   "cell_type": "markdown",
   "id": "07d6952c-67ea-4c1d-ab71-f3f8be3142a0",
   "metadata": {},
   "source": [
    "### Example"
   ]
  },
  {
   "cell_type": "code",
   "execution_count": 24,
   "id": "e44e18de-a224-4e40-a970-9e98a3e963e8",
   "metadata": {},
   "outputs": [],
   "source": [
    "phoneNumbers = '0803454289 90234620 578329004 +783290420'"
   ]
  },
  {
   "cell_type": "code",
   "execution_count": 25,
   "id": "6ca21696-eba3-4334-858b-97c568c63cc5",
   "metadata": {},
   "outputs": [],
   "source": [
    "pattern = \"20\" "
   ]
  },
  {
   "cell_type": "code",
   "execution_count": 50,
   "id": "71024d22-daf0-4439-a5be-1f76d36f69ba",
   "metadata": {},
   "outputs": [],
   "source": [
    "# Returns a match object if found else Null  \n",
    "match1 = re.match(pattern, phoneNumbers)  \n",
    "match2 = re.findall(pattern, phoneNumbers)  \n",
    "match3 = re.search(pattern, phoneNumbers)  "
   ]
  },
  {
   "cell_type": "code",
   "execution_count": 51,
   "id": "5f036d0e-50c1-4cdd-ac6c-70989ee820d6",
   "metadata": {},
   "outputs": [],
   "source": [
    "match1"
   ]
  },
  {
   "cell_type": "code",
   "execution_count": 52,
   "id": "03d77d20-9d85-47b7-8578-306b424d8984",
   "metadata": {},
   "outputs": [
    {
     "data": {
      "text/plain": [
       "['20', '20']"
      ]
     },
     "execution_count": 52,
     "metadata": {},
     "output_type": "execute_result"
    }
   ],
   "source": [
    "match2"
   ]
  },
  {
   "cell_type": "code",
   "execution_count": 53,
   "id": "6a1f0705-d5f0-4fd3-bc07-29b5d23a9648",
   "metadata": {},
   "outputs": [
    {
     "data": {
      "text/plain": [
       "<re.Match object; span=(17, 19), match='20'>"
      ]
     },
     "execution_count": 53,
     "metadata": {},
     "output_type": "execute_result"
    }
   ],
   "source": [
    "match3"
   ]
  },
  {
   "cell_type": "code",
   "execution_count": null,
   "id": "457ae4b9-dd76-4164-9ae5-e827ca2635d6",
   "metadata": {},
   "outputs": [],
   "source": []
  },
  {
   "cell_type": "code",
   "execution_count": null,
   "id": "483b042c-1c33-40cb-a119-84596d9c9a12",
   "metadata": {},
   "outputs": [],
   "source": []
  },
  {
   "cell_type": "code",
   "execution_count": null,
   "id": "2a5e1278-13ac-45d0-895a-3beaf8e52588",
   "metadata": {},
   "outputs": [],
   "source": []
  }
 ],
 "metadata": {
  "kernelspec": {
   "display_name": "Python 3 (ipykernel)",
   "language": "python",
   "name": "python3"
  },
  "language_info": {
   "codemirror_mode": {
    "name": "ipython",
    "version": 3
   },
   "file_extension": ".py",
   "mimetype": "text/x-python",
   "name": "python",
   "nbconvert_exporter": "python",
   "pygments_lexer": "ipython3",
   "version": "3.10.13"
  }
 },
 "nbformat": 4,
 "nbformat_minor": 5
}
