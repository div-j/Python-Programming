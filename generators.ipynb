{
 "cells": [
  {
   "cell_type": "code",
   "execution_count": 18,
   "id": "1d580ef3-6fce-4cc9-8d5f-56bcaa40b2c3",
   "metadata": {},
   "outputs": [],
   "source": [
    "def maths(x,y):\n",
    "    yield x+y\n",
    "    yield x-y\n",
    "    yield x*y\n",
    "    yield x/y\n",
    "    yield x**y\n",
    "    \n",
    "    \n",
    "    "
   ]
  },
  {
   "cell_type": "code",
   "execution_count": 23,
   "id": "b1d6c9e3-dac1-439f-9a28-c81287f3f1b1",
   "metadata": {},
   "outputs": [],
   "source": [
    "calculate = maths(3,5)"
   ]
  },
  {
   "cell_type": "code",
   "execution_count": 25,
   "id": "e55473d1-4de9-417d-952a-80e73ae8bfa6",
   "metadata": {},
   "outputs": [
    {
     "data": {
      "text/plain": [
       "8"
      ]
     },
     "execution_count": 25,
     "metadata": {},
     "output_type": "execute_result"
    }
   ],
   "source": [
    "next(calculate)"
   ]
  },
  {
   "cell_type": "code",
   "execution_count": 26,
   "id": "624609ad-2d11-4f9e-9cee-a7bf810b9345",
   "metadata": {},
   "outputs": [
    {
     "data": {
      "text/plain": [
       "-2"
      ]
     },
     "execution_count": 26,
     "metadata": {},
     "output_type": "execute_result"
    }
   ],
   "source": [
    "next(calculate)"
   ]
  },
  {
   "cell_type": "code",
   "execution_count": 27,
   "id": "e23bf47d-6c4f-4f22-ba04-f4546da36011",
   "metadata": {},
   "outputs": [
    {
     "data": {
      "text/plain": [
       "15"
      ]
     },
     "execution_count": 27,
     "metadata": {},
     "output_type": "execute_result"
    }
   ],
   "source": [
    "next(calculate)"
   ]
  },
  {
   "cell_type": "code",
   "execution_count": 28,
   "id": "3db8a0ae-432b-4156-8e03-d5f8fdd5d84a",
   "metadata": {},
   "outputs": [
    {
     "data": {
      "text/plain": [
       "0.6"
      ]
     },
     "execution_count": 28,
     "metadata": {},
     "output_type": "execute_result"
    }
   ],
   "source": [
    "next(calculate)"
   ]
  },
  {
   "cell_type": "code",
   "execution_count": 29,
   "id": "a97b6cac-5a94-4751-be16-1a52b64c1291",
   "metadata": {},
   "outputs": [
    {
     "data": {
      "text/plain": [
       "243"
      ]
     },
     "execution_count": 29,
     "metadata": {},
     "output_type": "execute_result"
    }
   ],
   "source": [
    "next(calculate)"
   ]
  },
  {
   "cell_type": "code",
   "execution_count": 30,
   "id": "d26c40ff-ce9f-4f28-9731-347255a77720",
   "metadata": {},
   "outputs": [
    {
     "ename": "StopIteration",
     "evalue": "",
     "output_type": "error",
     "traceback": [
      "\u001b[0;31m---------------------------------------------------------------------------\u001b[0m",
      "\u001b[0;31mStopIteration\u001b[0m                             Traceback (most recent call last)",
      "Cell \u001b[0;32mIn[30], line 1\u001b[0m\n\u001b[0;32m----> 1\u001b[0m \u001b[38;5;28;43mnext\u001b[39;49m\u001b[43m(\u001b[49m\u001b[43mcalculate\u001b[49m\u001b[43m)\u001b[49m\n",
      "\u001b[0;31mStopIteration\u001b[0m: "
     ]
    }
   ],
   "source": [
    "next(calculate)"
   ]
  },
  {
   "cell_type": "code",
   "execution_count": null,
   "id": "5c0353ba-9d28-4fca-ba9f-79181e590c34",
   "metadata": {},
   "outputs": [],
   "source": []
  }
 ],
 "metadata": {
  "kernelspec": {
   "display_name": "Python 3 (ipykernel)",
   "language": "python",
   "name": "python3"
  },
  "language_info": {
   "codemirror_mode": {
    "name": "ipython",
    "version": 3
   },
   "file_extension": ".py",
   "mimetype": "text/x-python",
   "name": "python",
   "nbconvert_exporter": "python",
   "pygments_lexer": "ipython3",
   "version": "3.10.13"
  }
 },
 "nbformat": 4,
 "nbformat_minor": 5
}
