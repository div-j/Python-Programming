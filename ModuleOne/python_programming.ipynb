{
 "cells": [
  {
   "cell_type": "markdown",
   "id": "c6178ff9-31bf-478e-91d8-d96a86e8a9a3",
   "metadata": {},
   "source": [
    "### Part of speech of python programming\n",
    "\n",
    "- comments\n",
    "- keywords\n",
    "- operators\n",
    "- Values/variables\n",
    "- expressions"
   ]
  },
  {
   "cell_type": "markdown",
   "id": "fbfd208a-be29-4ff3-9e0c-3b76f78e6c79",
   "metadata": {},
   "source": [
    "#### Comments\n",
    "they used to explain what a code does"
   ]
  },
  {
   "cell_type": "markdown",
   "id": "35c939ec-40a6-4780-8f90-c7e4217bb22f",
   "metadata": {},
   "source": [
    "- Comments can be used to explain Python code.\n",
    "- Comments can be used to make the code more readable.\n",
    "- Comments can be used to prevent execution when testing code."
   ]
  },
  {
   "cell_type": "code",
   "execution_count": null,
   "id": "73180b2b-cee9-4121-9516-8acec0fcfb80",
   "metadata": {},
   "outputs": [],
   "source": [
    "Single line comment"
   ]
  },
  {
   "cell_type": "code",
   "execution_count": 19,
   "id": "9759fefb-4aa8-4beb-bfbc-2ad9c9ce1e6b",
   "metadata": {},
   "outputs": [],
   "source": [
    "#this is a comment"
   ]
  },
  {
   "cell_type": "code",
   "execution_count": 9,
   "id": "c3982bc4-c5a3-414d-84d7-7dcbe9491539",
   "metadata": {},
   "outputs": [
    {
     "name": "stdout",
     "output_type": "stream",
     "text": [
      "8\n"
     ]
    }
   ],
   "source": [
    "# adding two numbers\n",
    "print(3+5)"
   ]
  },
  {
   "cell_type": "code",
   "execution_count": null,
   "id": "d4719432-a309-4929-891d-f22203c437df",
   "metadata": {},
   "outputs": [],
   "source": [
    "Multiline comment"
   ]
  },
  {
   "cell_type": "code",
   "execution_count": 21,
   "id": "5682e491-d4d4-487d-a1b1-8fd3aac9b7a3",
   "metadata": {},
   "outputs": [
    {
     "data": {
      "text/plain": [
       "'\\nThis is\\na multiline\\ncomment\\n'"
      ]
     },
     "execution_count": 21,
     "metadata": {},
     "output_type": "execute_result"
    }
   ],
   "source": [
    "'''\n",
    "This is\n",
    "a multiline\n",
    "comment\n",
    "'''"
   ]
  },
  {
   "cell_type": "code",
   "execution_count": null,
   "id": "cbac04db-5215-45d6-9210-b0e3332c0b02",
   "metadata": {},
   "outputs": [],
   "source": []
  },
  {
   "cell_type": "markdown",
   "id": "9cee08d5-4bce-4423-8e30-996dfadd46dd",
   "metadata": {},
   "source": [
    "#### keywords\n",
    "Keywords are reserved words in Python that have a specific meaning to the interpreter and cannot be used as `variable names, function names, or any other identifier.`\n",
    "\n",
    "\n",
    "**Examples:**\n",
    "and, as, assert, break, continue, del, elif, else, except, finally,for, from, global, if, import, in, is, lambda, not, or, pass, raise, return, try, while, with, yield, etc."
   ]
  },
  {
   "cell_type": "code",
   "execution_count": 31,
   "id": "5fb47d89-6a5c-4676-9536-791b148a9237",
   "metadata": {},
   "outputs": [
    {
     "ename": "SyntaxError",
     "evalue": "invalid syntax (3835330949.py, line 1)",
     "output_type": "error",
     "traceback": [
      "\u001b[0;36m  Cell \u001b[0;32mIn[31], line 1\u001b[0;36m\u001b[0m\n\u001b[0;31m    pass = 'to kick a ball short'\u001b[0m\n\u001b[0m         ^\u001b[0m\n\u001b[0;31mSyntaxError\u001b[0m\u001b[0;31m:\u001b[0m invalid syntax\n"
     ]
    }
   ],
   "source": [
    "pass = 'to kick a ball short'"
   ]
  },
  {
   "cell_type": "markdown",
   "id": "4900af33-b03a-4de9-9d10-97cc14c94bd6",
   "metadata": {},
   "source": [
    "The above gave an error"
   ]
  },
  {
   "cell_type": "code",
   "execution_count": 33,
   "id": "edf8ba2f-089d-4ff6-ab16-ccaf95a9cf5c",
   "metadata": {},
   "outputs": [],
   "source": [
    "passing = 'to kick a ball short'"
   ]
  },
  {
   "cell_type": "code",
   "execution_count": 11,
   "id": "75474002-8d67-4b53-a1e8-4102adcae880",
   "metadata": {},
   "outputs": [
    {
     "ename": "SyntaxError",
     "evalue": "invalid syntax (510598506.py, line 1)",
     "output_type": "error",
     "traceback": [
      "\u001b[0;36m  Cell \u001b[0;32mIn[11], line 1\u001b[0;36m\u001b[0m\n\u001b[0;31m    if = 'condiction'\u001b[0m\n\u001b[0m       ^\u001b[0m\n\u001b[0;31mSyntaxError\u001b[0m\u001b[0;31m:\u001b[0m invalid syntax\n"
     ]
    }
   ],
   "source": [
    "if = 'condiction'"
   ]
  },
  {
   "cell_type": "markdown",
   "id": "9dda0973-c2e0-4c09-b1e3-3b2476a4ebf7",
   "metadata": {},
   "source": [
    "## operators"
   ]
  },
  {
   "cell_type": "markdown",
   "id": "ccde810f-ae5a-4986-9a33-59ecc033e342",
   "metadata": {},
   "source": [
    "Python offers a wide range of operators to perform different tasks on data. These operators can be grouped into several categories:\n",
    "\n",
    "**1. Arithmetic Operators:**\n",
    "\n",
    "* `+`: Addition\n",
    "* `-`: Subtraction\n",
    "* `*`: Multiplication\n",
    "* `/`: Division (true division)\n",
    "* `//`: Floor division (rounded towards zero)\n",
    "* `%`: Modulo (remainder of division)\n",
    "* `**`: Exponentiation\n",
    "\n",
    "**2. Comparison Operators:**\n",
    "\n",
    "* `==`: Equal to\n",
    "* `!=`: Not equal to\n",
    "* `<`: Less than\n",
    "* `>`: Greater than\n",
    "* `<=`: Less than or equal to\n",
    "* `>=`: Greater than or equal to\n",
    "\n",
    "**3. Logical Operators:**\n",
    "\n",
    "* `and`: Logical AND\n",
    "* `or`: Logical OR\n",
    "* `not`: Logical NOT\n",
    "\n",
    "**4. Bitwise Operators:**\n",
    "\n",
    "* `&`: Bitwise AND\n",
    "* `|`: Bitwise OR\n",
    "* `~`: Bitwise NOT\n",
    "* `^`: Bitwise XOR\n",
    "* `<<`: Left shift\n",
    "* `>>`: Right shift\n",
    "\n",
    "**5. Assignment Operators:**\n",
    "\n",
    "* `=`: Simple assignment\n",
    "* `+=`: Addition assignment\n",
    "* `-=`: Subtraction assignment\n",
    "* `*=`: Multiplication assignment\n",
    "* `/=`: Division assignment\n",
    "* `//=`: Floor division assignment\n",
    "* `%=`: Modulo assignment\n",
    "* `**=`: Exponentiation assignment\n",
    "\n",
    "**6. Membership Operators:**\n",
    "\n",
    "* `in`: Checks if a value is present in a sequence\n",
    "* `not in`: Checks if a value is not present in a sequence\n",
    "\n",
    "**7. Identity Operators:**\n",
    "\n",
    "* `is`: Checks if two operands are the same object\n",
    "* `is not`: Checks if two operands are not the same object\n",
    "\n",
    "**8. Special Operators:**\n",
    "\n",
    "* `@`: Matrix multiplication\n",
    "\n",
    "Each operator has its specific usage and precedence. It's important to understand the behavior and priority of each operator to write correct and efficient code.\n",
    "\n",
    "Here are some additional details about Python operators:\n",
    "\n",
    "* Operators can be used with various data types, including numbers, strings, lists, and tuples.\n",
    "* The behavior of operators can be overloaded for custom classes.\n",
    "* Operator precedence determines the order of evaluation in expressions.\n",
    "* Python also provides unary operators that operate on a single operand, such as `-` for negation and `~` for bitwise negation."
   ]
  },
  {
   "cell_type": "markdown",
   "id": "92f84793-1f1f-436f-b445-bf0fbd5569de",
   "metadata": {},
   "source": [
    "**1. Arithmetic Operators:**\n",
    "\n",
    "* `+`: Addition\n",
    "* `-`: Subtraction\n",
    "* `*`: Multiplication\n",
    "* `/`: Division (true division)\n",
    "* `//`: Floor division (rounded towards zero)\n",
    "* `%`: Modulo (remainder of division)\n",
    "* `**`: Exponentiation\n"
   ]
  },
  {
   "cell_type": "markdown",
   "id": "6a22d013-b917-4478-a7ff-40c06eb7b4cb",
   "metadata": {},
   "source": [
    "**Example**"
   ]
  },
  {
   "cell_type": "code",
   "execution_count": 51,
   "id": "4053659e-7266-4893-b50e-8ac4bf5ce16a",
   "metadata": {},
   "outputs": [
    {
     "name": "stdout",
     "output_type": "stream",
     "text": [
      "8\n",
      "-2\n",
      "15\n",
      "0.6\n"
     ]
    }
   ],
   "source": [
    "#addition\n",
    "print(3+5)\n",
    "\n",
    "#Subtraction\n",
    "print(3-5)\n",
    "\n",
    "#Multiplication\n",
    "print(3*5)\n",
    "\n",
    "#Division\n",
    "print(3/5)"
   ]
  },
  {
   "cell_type": "code",
   "execution_count": 55,
   "id": "849f1ba2-5915-484f-811d-662a853a4ed2",
   "metadata": {},
   "outputs": [
    {
     "name": "stdout",
     "output_type": "stream",
     "text": [
      "2\n",
      "0\n"
     ]
    }
   ],
   "source": [
    "#Floor division\n",
    "print(5//2) #quotient\n",
    "print(3//10)"
   ]
  },
  {
   "cell_type": "code",
   "execution_count": 61,
   "id": "0e89df7b-984c-470c-856c-99e96d33e988",
   "metadata": {},
   "outputs": [
    {
     "name": "stdout",
     "output_type": "stream",
     "text": [
      "1\n",
      "25\n"
     ]
    }
   ],
   "source": [
    "#Modulo\n",
    "print(5%2) #remainder\n",
    "\n",
    "#Exponentiation\n",
    "print(5**2)\n"
   ]
  },
  {
   "cell_type": "code",
   "execution_count": null,
   "id": "9c4d318e-968d-47a1-ab54-2f66ea304921",
   "metadata": {},
   "outputs": [],
   "source": []
  },
  {
   "cell_type": "markdown",
   "id": "e85436c1-2d24-471e-949d-acc6c6e47cb1",
   "metadata": {},
   "source": [
    "**2. Comparison Operators:**\n",
    "used to compare values\n",
    "\n",
    "* `==`: Equal to\n",
    "* `!=`: Not equal to\n",
    "* `<`: Less than\n",
    "* `>`: Greater than\n",
    "* `<=`: Less than or equal to\n",
    "* `>=`: Greater than or equal to\n"
   ]
  },
  {
   "cell_type": "markdown",
   "id": "c286d152-9b52-4ef1-bf60-0d07ea8e4153",
   "metadata": {},
   "source": [
    "**Example**"
   ]
  },
  {
   "cell_type": "code",
   "execution_count": 72,
   "id": "9b0cf576-0c9d-484b-836f-c666fe3a702f",
   "metadata": {},
   "outputs": [
    {
     "name": "stdout",
     "output_type": "stream",
     "text": [
      "False\n",
      "True\n",
      "True\n",
      "True\n",
      "False\n",
      "True\n"
     ]
    }
   ],
   "source": [
    "print(5==6)\n",
    "print(5!=7)\n",
    "print(5>3)\n",
    "print(5<8)\n",
    "print(5<=3)\n",
    "print(5>=5)"
   ]
  },
  {
   "cell_type": "code",
   "execution_count": null,
   "id": "3b919a2d-35a4-430a-84c9-721e458b44a8",
   "metadata": {},
   "outputs": [],
   "source": []
  },
  {
   "cell_type": "markdown",
   "id": "91f0da73-96e1-4935-b59f-d0d55950ad38",
   "metadata": {},
   "source": [
    "**3. Logical Operators:**\n",
    "Used to combine two or more operators and perform logical text\n",
    "\n",
    "* `and`: Logical AND\n",
    "* `or`: Logical OR\n",
    "* `not`: Logical NOT"
   ]
  },
  {
   "cell_type": "markdown",
   "id": "5cbeb6a3-9d40-4ce8-a41b-798f5e52d27a",
   "metadata": {},
   "source": [
    "**Example**"
   ]
  },
  {
   "cell_type": "code",
   "execution_count": 86,
   "id": "b92a4e57-c2db-47bd-8f0b-165a8e66ae72",
   "metadata": {},
   "outputs": [
    {
     "name": "stdout",
     "output_type": "stream",
     "text": [
      "False\n",
      "True\n",
      "False\n"
     ]
    }
   ],
   "source": [
    "print(8<7 and 8>5)\n",
    "print(8<7 or 8>5)\n",
    "print(not 8>5)"
   ]
  },
  {
   "cell_type": "code",
   "execution_count": null,
   "id": "0b4e95a3-84e6-4fc9-ae14-c8894ad79067",
   "metadata": {},
   "outputs": [],
   "source": []
  },
  {
   "cell_type": "markdown",
   "id": "bb4cc261-3d24-4884-acf4-f36ddaaf210a",
   "metadata": {},
   "source": [
    "**4. Bitwise Operators:**\n",
    "\n",
    "* `&`: Bitwise AND\n",
    "* `|`: Bitwise OR\n",
    "* `~`: Bitwise NOT\n",
    "* `^`: Bitwise XOR\n",
    "* `<<`: Left shift\n",
    "* `>>`: Right shift\n"
   ]
  },
  {
   "cell_type": "markdown",
   "id": "b9ef3b78-97ab-465f-92a9-3c855a8c0042",
   "metadata": {},
   "source": [
    "**Example**"
   ]
  },
  {
   "cell_type": "code",
   "execution_count": 93,
   "id": "25a9c46a-6ff1-4490-adf1-24ab3f7099d8",
   "metadata": {},
   "outputs": [
    {
     "name": "stdout",
     "output_type": "stream",
     "text": [
      "0\n",
      "14\n"
     ]
    }
   ],
   "source": [
    "print(10 & 4)\n",
    "print(10 | 4)"
   ]
  },
  {
   "cell_type": "markdown",
   "id": "b95825a9-368a-4a9d-a8c1-0de567d29962",
   "metadata": {},
   "source": [
    "Explanation: converting decimals to binary using the bin method and vice versa using the int method"
   ]
  },
  {
   "cell_type": "code",
   "execution_count": 95,
   "id": "195355ae-1269-42da-b133-2e6dd81110a9",
   "metadata": {},
   "outputs": [
    {
     "data": {
      "text/plain": [
       "'0b1010'"
      ]
     },
     "execution_count": 95,
     "metadata": {},
     "output_type": "execute_result"
    }
   ],
   "source": [
    "bin(10)"
   ]
  },
  {
   "cell_type": "code",
   "execution_count": 97,
   "id": "9bac7e56-1aa0-4473-9b03-4783040819bc",
   "metadata": {},
   "outputs": [
    {
     "data": {
      "text/plain": [
       "'0b100'"
      ]
     },
     "execution_count": 97,
     "metadata": {},
     "output_type": "execute_result"
    }
   ],
   "source": [
    "bin(4)"
   ]
  },
  {
   "cell_type": "code",
   "execution_count": 101,
   "id": "87db0f3a-6123-4ee8-b228-f0d220f2e9a4",
   "metadata": {},
   "outputs": [
    {
     "data": {
      "text/plain": [
       "14"
      ]
     },
     "execution_count": 101,
     "metadata": {},
     "output_type": "execute_result"
    }
   ],
   "source": [
    "int(0b1110)"
   ]
  },
  {
   "cell_type": "code",
   "execution_count": null,
   "id": "bafd1212-b69b-438d-9a4d-e2b72dbfad15",
   "metadata": {},
   "outputs": [],
   "source": []
  },
  {
   "cell_type": "markdown",
   "id": "131de5b1-f7a1-4644-92a9-98454dfb780c",
   "metadata": {},
   "source": [
    "### Arithmetic Operators:"
   ]
  },
  {
   "cell_type": "code",
   "execution_count": 4,
   "id": "f9eed84f-0d17-4a13-bb96-edbe359acb90",
   "metadata": {},
   "outputs": [],
   "source": [
    "x = 6"
   ]
  },
  {
   "cell_type": "code",
   "execution_count": 8,
   "id": "d0756d84-9000-4ace-9936-7ff8c873cf7d",
   "metadata": {},
   "outputs": [
    {
     "name": "stdout",
     "output_type": "stream",
     "text": [
      "6\n"
     ]
    }
   ],
   "source": [
    "print(x)"
   ]
  },
  {
   "cell_type": "code",
   "execution_count": 10,
   "id": "270e5ffc-9683-462d-a2cf-bfa4eac9dc30",
   "metadata": {},
   "outputs": [],
   "source": [
    "x += 2\n",
    "# x = x+2"
   ]
  },
  {
   "cell_type": "code",
   "execution_count": 12,
   "id": "7353ba71-435d-4f2e-b612-e4994aec8783",
   "metadata": {},
   "outputs": [
    {
     "data": {
      "text/plain": [
       "8"
      ]
     },
     "execution_count": 12,
     "metadata": {},
     "output_type": "execute_result"
    }
   ],
   "source": [
    "x"
   ]
  },
  {
   "cell_type": "code",
   "execution_count": 14,
   "id": "a389f497-16a2-444a-9fdd-672ba087e3fe",
   "metadata": {},
   "outputs": [],
   "source": [
    "x -=3\n",
    "# x = x -3"
   ]
  },
  {
   "cell_type": "code",
   "execution_count": 16,
   "id": "f2606878-0151-432d-b33b-b0dd3e4a80dd",
   "metadata": {},
   "outputs": [
    {
     "data": {
      "text/plain": [
       "5"
      ]
     },
     "execution_count": 16,
     "metadata": {},
     "output_type": "execute_result"
    }
   ],
   "source": [
    "x"
   ]
  },
  {
   "cell_type": "code",
   "execution_count": 18,
   "id": "753ae006-313e-48c4-aef0-fc4d21080327",
   "metadata": {},
   "outputs": [],
   "source": [
    "x *=2"
   ]
  },
  {
   "cell_type": "code",
   "execution_count": 20,
   "id": "b65191fb-2957-407a-b839-fe088eb76d5b",
   "metadata": {},
   "outputs": [
    {
     "data": {
      "text/plain": [
       "10"
      ]
     },
     "execution_count": 20,
     "metadata": {},
     "output_type": "execute_result"
    }
   ],
   "source": [
    "x"
   ]
  },
  {
   "cell_type": "code",
   "execution_count": 22,
   "id": "7996379f-bd68-4b2b-b5e6-52b899c9d4cd",
   "metadata": {},
   "outputs": [],
   "source": [
    "x /=2"
   ]
  },
  {
   "cell_type": "code",
   "execution_count": 24,
   "id": "78c665e1-bc19-4eaa-8157-b1f804f48f73",
   "metadata": {},
   "outputs": [
    {
     "data": {
      "text/plain": [
       "5.0"
      ]
     },
     "execution_count": 24,
     "metadata": {},
     "output_type": "execute_result"
    }
   ],
   "source": [
    "x"
   ]
  },
  {
   "cell_type": "code",
   "execution_count": 34,
   "id": "bd755f91-27ce-4a33-a9dc-a5c5fbcf7a05",
   "metadata": {},
   "outputs": [],
   "source": [
    "x%=2"
   ]
  },
  {
   "cell_type": "code",
   "execution_count": 36,
   "id": "e3294f88-3a3e-4897-b839-c1dd62c66ac6",
   "metadata": {},
   "outputs": [
    {
     "name": "stdout",
     "output_type": "stream",
     "text": [
      "1.0\n"
     ]
    }
   ],
   "source": [
    "print(x)"
   ]
  },
  {
   "cell_type": "code",
   "execution_count": null,
   "id": "ddb45782-c3c1-4209-acdd-484398640ab5",
   "metadata": {},
   "outputs": [],
   "source": []
  },
  {
   "cell_type": "markdown",
   "id": "49571c78-92e0-4c6c-97fd-36ad3dfbdd50",
   "metadata": {},
   "source": [
    "## Variables"
   ]
  },
  {
   "cell_type": "markdown",
   "id": "5f3e577d-4883-4025-a89a-e0646496f1a6",
   "metadata": {},
   "source": [
    "In Python, variables are used to store and manipulate data. Unlike some other programming languages, Python is dynamically typed, meaning you don't have to explicitly declare the data type of a variable. Here's a basic overview of Python variables:\n",
    "\n",
    "### Variable Naming Rules:\n",
    "- Variable names can be a combination of letters (a-z, A-Z), numbers (0-9), and underscores (_).\n",
    "- They cannot start with a number.\n",
    "- Python is case-sensitive, so `myVar` and `myvar` would be considered different variables.\n",
    "- Avoid using reserved words as variable names (e.g., `if`, `else`, `for`, etc.).\n",
    "\n",
    "### Assigning Values to Variables:\n",
    "You can assign values to variables using the assignment operator (`=`). Here are some examples:\n",
    "\n",
    "```python\n",
    "# Integer variable\n",
    "age = 25\n",
    "\n",
    "# Floating-point variable\n",
    "height = 5.9\n",
    "\n",
    "# String variable\n",
    "name = \"John\"\n",
    "\n",
    "# Boolean variable\n",
    "is_student = True\n",
    "```\n",
    "\n",
    "### Dynamic Typing:\n",
    "As mentioned earlier, Python is dynamically typed, which means you don't need to specify the data type of a variable. The interpreter determines the type at runtime.\n",
    "\n",
    "```python\n",
    "x = 10        # x is an integer\n",
    "x = \"Hello\"   # Now x is a string\n",
    "x = 3.14      # Now x is a float\n",
    "```\n",
    "\n",
    "### Multiple Assignment:\n",
    "You can assign values to multiple variables in a single line.\n",
    "\n",
    "```python\n",
    "a, b, c = 1, 2, 3\n",
    "```\n",
    "\n",
    "### Variable Types:\n",
    "1. **Integer:**\n",
    "   ```python\n",
    "   age = 25\n",
    "   ```\n",
    "\n",
    "2. **Float (Floating-point):**\n",
    "   ```python\n",
    "   height = 5.9\n",
    "   ```\n",
    "\n",
    "3. **String:**\n",
    "   ```python\n",
    "   name = \"John\"\n",
    "   ```\n",
    "\n",
    "4. **Boolean:**\n",
    "   ```python\n",
    "   is_student = True\n",
    "   ```\n",
    "\n",
    "### Printing Variables:\n",
    "You can print the values of variables using the `print()` function.\n",
    "\n",
    "```python\n",
    "print(name)        # Output: John\n",
    "print(age + 5)     # Output: 30\n",
    "print(is_student)  # Output: True\n",
    "```\n",
    "\n",
    "### Variable Reassignment:\n",
    "You can change the value of a variable after it has been assigned.\n",
    "\n",
    "```python\n",
    "x = 10\n",
    "print(x)  # Output: 10\n",
    "\n",
    "x = 20\n",
    "print(x)  # Output: 20\n",
    "```\n",
    "\n",
    "Understanding how to use variables is fundamental to programming in Python. They allow you to store, manipulate, and retrieve data, making your code more flexible and readable."
   ]
  },
  {
   "cell_type": "markdown",
   "id": "b10c84d6-0314-4ff9-ad99-2c62be069c0f",
   "metadata": {},
   "source": [
    "##### Class work\n",
    "\n",
    "create a variable to display your biography"
   ]
  },
  {
   "cell_type": "code",
   "execution_count": 46,
   "id": "8d1483b4-1f88-45ad-bd65-7e606841b281",
   "metadata": {},
   "outputs": [],
   "source": [
    "name = 'Divine'\n",
    "sex = 'Male'\n",
    "age= 28\n",
    "occupation='Software engineer'\n",
    "description = 'A graduate of Mechanical Engineering with strong background in software and data science'"
   ]
  },
  {
   "cell_type": "code",
   "execution_count": 50,
   "id": "8389fe9d-16ec-4925-a668-3bdf1603bef4",
   "metadata": {},
   "outputs": [
    {
     "name": "stdout",
     "output_type": "stream",
     "text": [
      "My name is Divine\n",
      "I am a Male and 28 years old\n",
      "I am a Software engineer. A graduate of Mechanical Engineering with strong background in software and data science\n"
     ]
    }
   ],
   "source": [
    "print('My name is',name)\n",
    "print(f'I am a {sex} and {age} years old')\n",
    "print(f'I am a {occupation}. {description}')"
   ]
  },
  {
   "cell_type": "markdown",
   "id": "0a909521-4dfb-4b85-9890-0d03c10fc206",
   "metadata": {},
   "source": [
    "#### Project: Biography program"
   ]
  },
  {
   "cell_type": "code",
   "execution_count": null,
   "id": "0f0706d1-ff3f-4193-8549-e59ad9718643",
   "metadata": {},
   "outputs": [
    {
     "name": "stdout",
     "output_type": "stream",
     "text": [
      "---Biography program---\n"
     ]
    },
    {
     "name": "stdin",
     "output_type": "stream",
     "text": [
      "name:  John\n",
      "sex:  Male\n",
      "age:  28\n",
      "occupation:  Data scientist\n"
     ]
    }
   ],
   "source": [
    "print('---Biography program---')\n",
    "\n",
    "name = input('name: ')\n",
    "sex = input('sex: ')\n",
    "age= input('age: ')\n",
    "occupation=input('occupation: ')\n",
    "description = input('description: ')\n",
    "\n",
    "#display\n",
    "print()\n",
    "print('---Here is your biography---')\n",
    "print('My name is',name)\n",
    "print(f'I am a {sex} and {age} years old')\n",
    "print(f'I am a {occupation}. {description}')"
   ]
  },
  {
   "cell_type": "markdown",
   "id": "9789336e-1ef6-47dd-8cfb-05fdc6eede7e",
   "metadata": {},
   "source": [
    "## Data types"
   ]
  },
  {
   "cell_type": "markdown",
   "id": "60866961-8135-4287-b7ed-d12844a30235",
   "metadata": {},
   "source": [
    "Python provides several built-in data types to represent different kinds of values. Here's an overview of some common data types, their properties, and methods:\n",
    "\n",
    "### 1. **Numeric Types:**\n",
    "   - **Integers (`int`):** Whole numbers without a decimal point.\n",
    "   ```python\n",
    "   x = 10\n",
    "   y = -5\n",
    "   ```\n",
    "\n",
    "   - **Floats (`float`):** Numbers with a decimal point.\n",
    "   ```python\n",
    "   height = 5.9\n",
    "   pi = 3.14\n",
    "   ```\n",
    "\n",
    "   - **Complex Numbers (`complex`):** Numbers in the form `a + bj`, where `a` and `b` are real numbers and `j` is the imaginary unit.\n",
    "   ```python\n",
    "   z = 2 + 3j\n",
    "   ```\n",
    "\n",
    "### 2. **Text Type:**\n",
    "   - **Strings (`str`):** Ordered sequences of characters.\n",
    "   ```python\n",
    "   name = \"John\"\n",
    "   message = 'Hello, World!'\n",
    "   ```\n",
    "\n",
    "   **String Methods:**\n",
    "   ```python\n",
    "   text = \"   Python Programming   \"\n",
    "\n",
    "   # String length\n",
    "   print(len(text))          # Output: 23\n",
    "\n",
    "   # Convert to lowercase\n",
    "   print(text.lower())       # Output: python programming\n",
    "\n",
    "   # Convert to uppercase\n",
    "   print(text.upper())       # Output: PYTHON PROGRAMMING\n",
    "\n",
    "   # Remove leading and trailing whitespaces\n",
    "   print(text.strip())       # Output: Python Programming\n",
    "   ```\n",
    "\n",
    "### 3. **Sequence Types:**\n",
    "   - **Lists (`list`):** Ordered, mutable (changeable) sequences.\n",
    "   ```python\n",
    "   numbers = [1, 2, 3, 4, 5]\n",
    "   ```\n",
    "\n",
    "   **List Methods:**\n",
    "   ```python\n",
    "   numbers.append(6)      # Add element to the end\n",
    "   numbers.remove(3)      # Remove element by value\n",
    "   numbers.pop(2)         # Remove element by index\n",
    "   print(numbers)         # Output: [1, 2, 4, 5, 6]\n",
    "   ```\n",
    "\n",
    "   - **Tuples (`tuple`):** Ordered, immutable (unchangeable) sequences.\n",
    "   ```python\n",
    "   coordinates = (3, 4)\n",
    "   ```\n",
    "\n",
    "   **Tuple Methods:**\n",
    "   Tuples have fewer methods compared to lists since they are immutable.\n",
    "\n",
    "### 4. **Set Types:**\n",
    "   - **Sets (`set`):** Unordered collections of unique elements.\n",
    "   ```python\n",
    "   colors = {\"red\", \"green\", \"blue\"}\n",
    "   ```\n",
    "\n",
    "   **Set Methods:**\n",
    "   ```python\n",
    "   colors.add(\"yellow\")     # Add element to the set\n",
    "   colors.remove(\"green\")   # Remove element from the set\n",
    "   print(colors)            # Output: {'blue', 'yellow', 'red'}\n",
    "   ```\n",
    "\n",
    "### 5. **Mapping Type:**\n",
    "   - **Dictionaries (`dict`):** Unordered collections of key-value pairs.\n",
    "   ```python\n",
    "   person = {\"name\": \"John\", \"age\": 30, \"city\": \"New York\"}\n",
    "   ```\n",
    "\n",
    "   **Dictionary Methods:**\n",
    "   ```python\n",
    "   person[\"gender\"] = \"Male\"    # Add a new key-value pair\n",
    "   del person[\"age\"]            # Remove key-value pair by key\n",
    "   print(person)                # Output: {'name': 'John', 'city': 'New York', 'gender': 'Male'}\n",
    "   ```\n",
    "\n",
    "### 6. **Boolean Type:**\n",
    "   - **Booleans (`bool`):** Represents truth values, either `True` or `False`.\n",
    "   ```python\n",
    "   is_adult = True\n",
    "   is_student = False\n",
    "   ```\n",
    "\n",
    "These are some of the fundamental data types in Python along with a few examples of their properties and methods. Understanding these types and their associated methods is essential for effective programming in Python. If you have specific questions or if there's a particular aspect you'd like more detail on, feel free to ask!"
   ]
  },
  {
   "cell_type": "code",
   "execution_count": null,
   "id": "e0b2534c-81e1-40c6-a7e7-b06fb47e020e",
   "metadata": {},
   "outputs": [],
   "source": []
  }
 ],
 "metadata": {
  "kernelspec": {
   "display_name": "anaconda-panel-2023.05-py310",
   "language": "python",
   "name": "conda-env-anaconda-panel-2023.05-py310-py"
  },
  "language_info": {
   "codemirror_mode": {
    "name": "ipython",
    "version": 3
   },
   "file_extension": ".py",
   "mimetype": "text/x-python",
   "name": "python",
   "nbconvert_exporter": "python",
   "pygments_lexer": "ipython3",
   "version": "3.11.5"
  }
 },
 "nbformat": 4,
 "nbformat_minor": 5
}
