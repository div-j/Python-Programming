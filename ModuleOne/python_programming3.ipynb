{
 "cells": [
  {
   "cell_type": "markdown",
   "id": "c6178ff9-31bf-478e-91d8-d96a86e8a9a3",
   "metadata": {},
   "source": [
    "### Part of speech of python programming\n",
    "\n",
    "- comments\n",
    "- keywords\n",
    "- operators\n",
    "- Values/variables\n",
    "- expressions"
   ]
  },
  {
   "cell_type": "markdown",
   "id": "fbfd208a-be29-4ff3-9e0c-3b76f78e6c79",
   "metadata": {},
   "source": [
    "#### Comments\n",
    "they used to explain what a code does"
   ]
  },
  {
   "cell_type": "markdown",
   "id": "35c939ec-40a6-4780-8f90-c7e4217bb22f",
   "metadata": {},
   "source": [
    "- Comments can be used to explain Python code.\n",
    "- Comments can be used to make the code more readable.\n",
    "- Comments can be used to prevent execution when testing code."
   ]
  },
  {
   "cell_type": "code",
   "execution_count": null,
   "id": "73180b2b-cee9-4121-9516-8acec0fcfb80",
   "metadata": {},
   "outputs": [],
   "source": [
    "Single line comment"
   ]
  },
  {
   "cell_type": "code",
   "execution_count": 19,
   "id": "9759fefb-4aa8-4beb-bfbc-2ad9c9ce1e6b",
   "metadata": {},
   "outputs": [],
   "source": [
    "#this is a comment"
   ]
  },
  {
   "cell_type": "code",
   "execution_count": 9,
   "id": "c3982bc4-c5a3-414d-84d7-7dcbe9491539",
   "metadata": {},
   "outputs": [
    {
     "name": "stdout",
     "output_type": "stream",
     "text": [
      "8\n"
     ]
    }
   ],
   "source": [
    "# adding two numbers\n",
    "print(3+5)"
   ]
  },
  {
   "cell_type": "code",
   "execution_count": null,
   "id": "d4719432-a309-4929-891d-f22203c437df",
   "metadata": {},
   "outputs": [],
   "source": [
    "Multiline comment"
   ]
  },
  {
   "cell_type": "code",
   "execution_count": 21,
   "id": "5682e491-d4d4-487d-a1b1-8fd3aac9b7a3",
   "metadata": {},
   "outputs": [
    {
     "data": {
      "text/plain": [
       "'\\nThis is\\na multiline\\ncomment\\n'"
      ]
     },
     "execution_count": 21,
     "metadata": {},
     "output_type": "execute_result"
    }
   ],
   "source": [
    "'''\n",
    "This is\n",
    "a multiline\n",
    "comment\n",
    "'''"
   ]
  },
  {
   "cell_type": "code",
   "execution_count": null,
   "id": "cbac04db-5215-45d6-9210-b0e3332c0b02",
   "metadata": {},
   "outputs": [],
   "source": []
  },
  {
   "cell_type": "markdown",
   "id": "9cee08d5-4bce-4423-8e30-996dfadd46dd",
   "metadata": {},
   "source": [
    "#### keywords\n",
    "Keywords are reserved words in Python that have a specific meaning to the interpreter and cannot be used as `variable names, function names, or any other identifier.`\n",
    "\n",
    "\n",
    "**Examples:**\n",
    "and, as, assert, break, continue, del, elif, else, except, finally,for, from, global, if, import, in, is, lambda, not, or, pass, raise, return, try, while, with, yield, etc."
   ]
  },
  {
   "cell_type": "code",
   "execution_count": 31,
   "id": "5fb47d89-6a5c-4676-9536-791b148a9237",
   "metadata": {},
   "outputs": [
    {
     "ename": "SyntaxError",
     "evalue": "invalid syntax (3835330949.py, line 1)",
     "output_type": "error",
     "traceback": [
      "\u001b[0;36m  Cell \u001b[0;32mIn[31], line 1\u001b[0;36m\u001b[0m\n\u001b[0;31m    pass = 'to kick a ball short'\u001b[0m\n\u001b[0m         ^\u001b[0m\n\u001b[0;31mSyntaxError\u001b[0m\u001b[0;31m:\u001b[0m invalid syntax\n"
     ]
    }
   ],
   "source": [
    "pass = 'to kick a ball short'"
   ]
  },
  {
   "cell_type": "markdown",
   "id": "4900af33-b03a-4de9-9d10-97cc14c94bd6",
   "metadata": {},
   "source": [
    "The above gave an error"
   ]
  },
  {
   "cell_type": "code",
   "execution_count": 33,
   "id": "edf8ba2f-089d-4ff6-ab16-ccaf95a9cf5c",
   "metadata": {},
   "outputs": [],
   "source": [
    "passing = 'to kick a ball short'"
   ]
  },
  {
   "cell_type": "code",
   "execution_count": 11,
   "id": "75474002-8d67-4b53-a1e8-4102adcae880",
   "metadata": {},
   "outputs": [
    {
     "ename": "SyntaxError",
     "evalue": "invalid syntax (510598506.py, line 1)",
     "output_type": "error",
     "traceback": [
      "\u001b[0;36m  Cell \u001b[0;32mIn[11], line 1\u001b[0;36m\u001b[0m\n\u001b[0;31m    if = 'condiction'\u001b[0m\n\u001b[0m       ^\u001b[0m\n\u001b[0;31mSyntaxError\u001b[0m\u001b[0;31m:\u001b[0m invalid syntax\n"
     ]
    }
   ],
   "source": [
    "if = 'condiction'"
   ]
  },
  {
   "cell_type": "markdown",
   "id": "9dda0973-c2e0-4c09-b1e3-3b2476a4ebf7",
   "metadata": {},
   "source": [
    "## operators"
   ]
  },
  {
   "cell_type": "markdown",
   "id": "ccde810f-ae5a-4986-9a33-59ecc033e342",
   "metadata": {},
   "source": [
    "Python offers a wide range of operators to perform different tasks on data. These operators can be grouped into several categories:\n",
    "\n",
    "**1. Arithmetic Operators:**\n",
    "\n",
    "* `+`: Addition\n",
    "* `-`: Subtraction\n",
    "* `*`: Multiplication\n",
    "* `/`: Division (true division)\n",
    "* `//`: Floor division (rounded towards zero)\n",
    "* `%`: Modulo (remainder of division)\n",
    "* `**`: Exponentiation\n",
    "\n",
    "**2. Comparison Operators:**\n",
    "\n",
    "* `==`: Equal to\n",
    "* `!=`: Not equal to\n",
    "* `<`: Less than\n",
    "* `>`: Greater than\n",
    "* `<=`: Less than or equal to\n",
    "* `>=`: Greater than or equal to\n",
    "\n",
    "**3. Logical Operators:**\n",
    "\n",
    "* `and`: Logical AND\n",
    "* `or`: Logical OR\n",
    "* `not`: Logical NOT\n",
    "\n",
    "**4. Bitwise Operators:**\n",
    "\n",
    "* `&`: Bitwise AND\n",
    "* `|`: Bitwise OR\n",
    "* `~`: Bitwise NOT\n",
    "* `^`: Bitwise XOR\n",
    "* `<<`: Left shift\n",
    "* `>>`: Right shift\n",
    "\n",
    "**5. Assignment Operators:**\n",
    "\n",
    "* `=`: Simple assignment\n",
    "* `+=`: Addition assignment\n",
    "* `-=`: Subtraction assignment\n",
    "* `*=`: Multiplication assignment\n",
    "* `/=`: Division assignment\n",
    "* `//=`: Floor division assignment\n",
    "* `%=`: Modulo assignment\n",
    "* `**=`: Exponentiation assignment\n",
    "\n",
    "**6. Membership Operators:**\n",
    "\n",
    "* `in`: Checks if a value is present in a sequence\n",
    "* `not in`: Checks if a value is not present in a sequence\n",
    "\n",
    "**7. Identity Operators:**\n",
    "\n",
    "* `is`: Checks if two operands are the same object\n",
    "* `is not`: Checks if two operands are not the same object\n",
    "\n",
    "**8. Special Operators:**\n",
    "\n",
    "* `@`: Matrix multiplication\n",
    "\n",
    "Each operator has its specific usage and precedence. It's important to understand the behavior and priority of each operator to write correct and efficient code.\n",
    "\n",
    "Here are some additional details about Python operators:\n",
    "\n",
    "* Operators can be used with various data types, including numbers, strings, lists, and tuples.\n",
    "* The behavior of operators can be overloaded for custom classes.\n",
    "* Operator precedence determines the order of evaluation in expressions.\n",
    "* Python also provides unary operators that operate on a single operand, such as `-` for negation and `~` for bitwise negation."
   ]
  },
  {
   "cell_type": "markdown",
   "id": "92f84793-1f1f-436f-b445-bf0fbd5569de",
   "metadata": {},
   "source": [
    "**1. Arithmetic Operators:**\n",
    "\n",
    "* `+`: Addition\n",
    "* `-`: Subtraction\n",
    "* `*`: Multiplication\n",
    "* `/`: Division (true division)\n",
    "* `//`: Floor division (rounded towards zero)\n",
    "* `%`: Modulo (remainder of division)\n",
    "* `**`: Exponentiation\n"
   ]
  },
  {
   "cell_type": "markdown",
   "id": "6a22d013-b917-4478-a7ff-40c06eb7b4cb",
   "metadata": {},
   "source": [
    "**Example**"
   ]
  },
  {
   "cell_type": "code",
   "execution_count": 51,
   "id": "4053659e-7266-4893-b50e-8ac4bf5ce16a",
   "metadata": {},
   "outputs": [
    {
     "name": "stdout",
     "output_type": "stream",
     "text": [
      "8\n",
      "-2\n",
      "15\n",
      "0.6\n"
     ]
    }
   ],
   "source": [
    "#addition\n",
    "print(3+5)\n",
    "\n",
    "#Subtraction\n",
    "print(3-5)\n",
    "\n",
    "#Multiplication\n",
    "print(3*5)\n",
    "\n",
    "#Division\n",
    "print(3/5)"
   ]
  },
  {
   "cell_type": "code",
   "execution_count": 55,
   "id": "849f1ba2-5915-484f-811d-662a853a4ed2",
   "metadata": {},
   "outputs": [
    {
     "name": "stdout",
     "output_type": "stream",
     "text": [
      "2\n",
      "0\n"
     ]
    }
   ],
   "source": [
    "#Floor division\n",
    "print(5//2) #quotient\n",
    "print(3//10)"
   ]
  },
  {
   "cell_type": "code",
   "execution_count": 61,
   "id": "0e89df7b-984c-470c-856c-99e96d33e988",
   "metadata": {},
   "outputs": [
    {
     "name": "stdout",
     "output_type": "stream",
     "text": [
      "1\n",
      "25\n"
     ]
    }
   ],
   "source": [
    "#Modulo\n",
    "print(5%2) #remainder\n",
    "\n",
    "#Exponentiation\n",
    "print(5**2)\n"
   ]
  },
  {
   "cell_type": "code",
   "execution_count": null,
   "id": "9c4d318e-968d-47a1-ab54-2f66ea304921",
   "metadata": {},
   "outputs": [],
   "source": []
  },
  {
   "cell_type": "markdown",
   "id": "e85436c1-2d24-471e-949d-acc6c6e47cb1",
   "metadata": {},
   "source": [
    "**2. Comparison Operators:**\n",
    "used to compare values\n",
    "\n",
    "* `==`: Equal to\n",
    "* `!=`: Not equal to\n",
    "* `<`: Less than\n",
    "* `>`: Greater than\n",
    "* `<=`: Less than or equal to\n",
    "* `>=`: Greater than or equal to\n"
   ]
  },
  {
   "cell_type": "markdown",
   "id": "c286d152-9b52-4ef1-bf60-0d07ea8e4153",
   "metadata": {},
   "source": [
    "**Example**"
   ]
  },
  {
   "cell_type": "code",
   "execution_count": 72,
   "id": "9b0cf576-0c9d-484b-836f-c666fe3a702f",
   "metadata": {},
   "outputs": [
    {
     "name": "stdout",
     "output_type": "stream",
     "text": [
      "False\n",
      "True\n",
      "True\n",
      "True\n",
      "False\n",
      "True\n"
     ]
    }
   ],
   "source": [
    "print(5==6)\n",
    "print(5!=7)\n",
    "print(5>3)\n",
    "print(5<8)\n",
    "print(5<=3)\n",
    "print(5>=5)"
   ]
  },
  {
   "cell_type": "code",
   "execution_count": null,
   "id": "3b919a2d-35a4-430a-84c9-721e458b44a8",
   "metadata": {},
   "outputs": [],
   "source": []
  },
  {
   "cell_type": "markdown",
   "id": "91f0da73-96e1-4935-b59f-d0d55950ad38",
   "metadata": {},
   "source": [
    "**3. Logical Operators:**\n",
    "Used to combine two or more operators and perform logical text\n",
    "\n",
    "* `and`: Logical AND\n",
    "* `or`: Logical OR\n",
    "* `not`: Logical NOT"
   ]
  },
  {
   "cell_type": "markdown",
   "id": "5cbeb6a3-9d40-4ce8-a41b-798f5e52d27a",
   "metadata": {},
   "source": [
    "**Example**"
   ]
  },
  {
   "cell_type": "code",
   "execution_count": 86,
   "id": "b92a4e57-c2db-47bd-8f0b-165a8e66ae72",
   "metadata": {},
   "outputs": [
    {
     "name": "stdout",
     "output_type": "stream",
     "text": [
      "False\n",
      "True\n",
      "False\n"
     ]
    }
   ],
   "source": [
    "print(8<7 and 8>5)\n",
    "print(8<7 or 8>5)\n",
    "print(not 8>5)"
   ]
  },
  {
   "cell_type": "code",
   "execution_count": null,
   "id": "0b4e95a3-84e6-4fc9-ae14-c8894ad79067",
   "metadata": {},
   "outputs": [],
   "source": []
  },
  {
   "cell_type": "markdown",
   "id": "bb4cc261-3d24-4884-acf4-f36ddaaf210a",
   "metadata": {},
   "source": [
    "**4. Bitwise Operators:**\n",
    "\n",
    "* `&`: Bitwise AND\n",
    "* `|`: Bitwise OR\n",
    "* `~`: Bitwise NOT\n",
    "* `^`: Bitwise XOR\n",
    "* `<<`: Left shift\n",
    "* `>>`: Right shift\n"
   ]
  },
  {
   "cell_type": "markdown",
   "id": "b9ef3b78-97ab-465f-92a9-3c855a8c0042",
   "metadata": {},
   "source": [
    "**Example**"
   ]
  },
  {
   "cell_type": "code",
   "execution_count": 93,
   "id": "25a9c46a-6ff1-4490-adf1-24ab3f7099d8",
   "metadata": {},
   "outputs": [
    {
     "name": "stdout",
     "output_type": "stream",
     "text": [
      "0\n",
      "14\n"
     ]
    }
   ],
   "source": [
    "print(10 & 4)\n",
    "print(10 | 4)"
   ]
  },
  {
   "cell_type": "markdown",
   "id": "b95825a9-368a-4a9d-a8c1-0de567d29962",
   "metadata": {},
   "source": [
    "Explanation: converting decimals to binary using the bin method and vice versa using the int method"
   ]
  },
  {
   "cell_type": "code",
   "execution_count": 95,
   "id": "195355ae-1269-42da-b133-2e6dd81110a9",
   "metadata": {},
   "outputs": [
    {
     "data": {
      "text/plain": [
       "'0b1010'"
      ]
     },
     "execution_count": 95,
     "metadata": {},
     "output_type": "execute_result"
    }
   ],
   "source": [
    "bin(10)"
   ]
  },
  {
   "cell_type": "code",
   "execution_count": 97,
   "id": "9bac7e56-1aa0-4473-9b03-4783040819bc",
   "metadata": {},
   "outputs": [
    {
     "data": {
      "text/plain": [
       "'0b100'"
      ]
     },
     "execution_count": 97,
     "metadata": {},
     "output_type": "execute_result"
    }
   ],
   "source": [
    "bin(4)"
   ]
  },
  {
   "cell_type": "code",
   "execution_count": 101,
   "id": "87db0f3a-6123-4ee8-b228-f0d220f2e9a4",
   "metadata": {},
   "outputs": [
    {
     "data": {
      "text/plain": [
       "14"
      ]
     },
     "execution_count": 101,
     "metadata": {},
     "output_type": "execute_result"
    }
   ],
   "source": [
    "int(0b1110)"
   ]
  },
  {
   "cell_type": "code",
   "execution_count": null,
   "id": "bafd1212-b69b-438d-9a4d-e2b72dbfad15",
   "metadata": {},
   "outputs": [],
   "source": []
  },
  {
   "cell_type": "markdown",
   "id": "131de5b1-f7a1-4644-92a9-98454dfb780c",
   "metadata": {},
   "source": [
    "### Arithmetic Operators:"
   ]
  },
  {
   "cell_type": "code",
   "execution_count": 4,
   "id": "f9eed84f-0d17-4a13-bb96-edbe359acb90",
   "metadata": {},
   "outputs": [],
   "source": [
    "x = 6"
   ]
  },
  {
   "cell_type": "code",
   "execution_count": 8,
   "id": "d0756d84-9000-4ace-9936-7ff8c873cf7d",
   "metadata": {},
   "outputs": [
    {
     "name": "stdout",
     "output_type": "stream",
     "text": [
      "6\n"
     ]
    }
   ],
   "source": [
    "print(x)"
   ]
  },
  {
   "cell_type": "code",
   "execution_count": 10,
   "id": "270e5ffc-9683-462d-a2cf-bfa4eac9dc30",
   "metadata": {},
   "outputs": [],
   "source": [
    "x += 2\n",
    "# x = x+2"
   ]
  },
  {
   "cell_type": "code",
   "execution_count": 12,
   "id": "7353ba71-435d-4f2e-b612-e4994aec8783",
   "metadata": {},
   "outputs": [
    {
     "data": {
      "text/plain": [
       "8"
      ]
     },
     "execution_count": 12,
     "metadata": {},
     "output_type": "execute_result"
    }
   ],
   "source": [
    "x"
   ]
  },
  {
   "cell_type": "code",
   "execution_count": 14,
   "id": "a389f497-16a2-444a-9fdd-672ba087e3fe",
   "metadata": {},
   "outputs": [],
   "source": [
    "x -=3\n",
    "# x = x -3"
   ]
  },
  {
   "cell_type": "code",
   "execution_count": 16,
   "id": "f2606878-0151-432d-b33b-b0dd3e4a80dd",
   "metadata": {},
   "outputs": [
    {
     "data": {
      "text/plain": [
       "5"
      ]
     },
     "execution_count": 16,
     "metadata": {},
     "output_type": "execute_result"
    }
   ],
   "source": [
    "x"
   ]
  },
  {
   "cell_type": "code",
   "execution_count": 18,
   "id": "753ae006-313e-48c4-aef0-fc4d21080327",
   "metadata": {},
   "outputs": [],
   "source": [
    "x *=2"
   ]
  },
  {
   "cell_type": "code",
   "execution_count": 20,
   "id": "b65191fb-2957-407a-b839-fe088eb76d5b",
   "metadata": {},
   "outputs": [
    {
     "data": {
      "text/plain": [
       "10"
      ]
     },
     "execution_count": 20,
     "metadata": {},
     "output_type": "execute_result"
    }
   ],
   "source": [
    "x"
   ]
  },
  {
   "cell_type": "code",
   "execution_count": 22,
   "id": "7996379f-bd68-4b2b-b5e6-52b899c9d4cd",
   "metadata": {},
   "outputs": [],
   "source": [
    "x /=2"
   ]
  },
  {
   "cell_type": "code",
   "execution_count": 24,
   "id": "78c665e1-bc19-4eaa-8157-b1f804f48f73",
   "metadata": {},
   "outputs": [
    {
     "data": {
      "text/plain": [
       "5.0"
      ]
     },
     "execution_count": 24,
     "metadata": {},
     "output_type": "execute_result"
    }
   ],
   "source": [
    "x"
   ]
  },
  {
   "cell_type": "code",
   "execution_count": 34,
   "id": "bd755f91-27ce-4a33-a9dc-a5c5fbcf7a05",
   "metadata": {},
   "outputs": [],
   "source": [
    "x%=2"
   ]
  },
  {
   "cell_type": "code",
   "execution_count": 36,
   "id": "e3294f88-3a3e-4897-b839-c1dd62c66ac6",
   "metadata": {},
   "outputs": [
    {
     "name": "stdout",
     "output_type": "stream",
     "text": [
      "1.0\n"
     ]
    }
   ],
   "source": [
    "print(x)"
   ]
  },
  {
   "cell_type": "code",
   "execution_count": null,
   "id": "ddb45782-c3c1-4209-acdd-484398640ab5",
   "metadata": {},
   "outputs": [],
   "source": []
  },
  {
   "cell_type": "markdown",
   "id": "49571c78-92e0-4c6c-97fd-36ad3dfbdd50",
   "metadata": {},
   "source": [
    "## Variables"
   ]
  },
  {
   "cell_type": "markdown",
   "id": "5f3e577d-4883-4025-a89a-e0646496f1a6",
   "metadata": {},
   "source": [
    "In Python, variables are used to store and manipulate data. Unlike some other programming languages, Python is dynamically typed, meaning you don't have to explicitly declare the data type of a variable. Here's a basic overview of Python variables:\n",
    "\n",
    "### Variable Naming Rules:\n",
    "- Variable names can be a combination of letters (a-z, A-Z), numbers (0-9), and underscores (_).\n",
    "- They cannot start with a number.\n",
    "- Python is case-sensitive, so `myVar` and `myvar` would be considered different variables.\n",
    "- Avoid using reserved words as variable names (e.g., `if`, `else`, `for`, etc.).\n",
    "\n",
    "### Assigning Values to Variables:\n",
    "You can assign values to variables using the assignment operator (`=`). Here are some examples:\n",
    "\n",
    "```python\n",
    "# Integer variable\n",
    "age = 25\n",
    "\n",
    "# Floating-point variable\n",
    "height = 5.9\n",
    "\n",
    "# String variable\n",
    "name = \"John\"\n",
    "\n",
    "# Boolean variable\n",
    "is_student = True\n",
    "```\n",
    "\n",
    "### Dynamic Typing:\n",
    "As mentioned earlier, Python is dynamically typed, which means you don't need to specify the data type of a variable. The interpreter determines the type at runtime.\n",
    "\n",
    "```python\n",
    "x = 10        # x is an integer\n",
    "x = \"Hello\"   # Now x is a string\n",
    "x = 3.14      # Now x is a float\n",
    "```\n",
    "\n",
    "### Multiple Assignment:\n",
    "You can assign values to multiple variables in a single line.\n",
    "\n",
    "```python\n",
    "a, b, c = 1, 2, 3\n",
    "```\n",
    "\n",
    "### Variable Types:\n",
    "1. **Integer:**\n",
    "   ```python\n",
    "   age = 25\n",
    "   ```\n",
    "\n",
    "2. **Float (Floating-point):**\n",
    "   ```python\n",
    "   height = 5.9\n",
    "   ```\n",
    "\n",
    "3. **String:**\n",
    "   ```python\n",
    "   name = \"John\"\n",
    "   ```\n",
    "\n",
    "4. **Boolean:**\n",
    "   ```python\n",
    "   is_student = True\n",
    "   ```\n",
    "\n",
    "### Printing Variables:\n",
    "You can print the values of variables using the `print()` function.\n",
    "\n",
    "```python\n",
    "print(name)        # Output: John\n",
    "print(age + 5)     # Output: 30\n",
    "print(is_student)  # Output: True\n",
    "```\n",
    "\n",
    "### Variable Reassignment:\n",
    "You can change the value of a variable after it has been assigned.\n",
    "\n",
    "```python\n",
    "x = 10\n",
    "print(x)  # Output: 10\n",
    "\n",
    "x = 20\n",
    "print(x)  # Output: 20\n",
    "```\n",
    "\n",
    "Understanding how to use variables is fundamental to programming in Python. They allow you to store, manipulate, and retrieve data, making your code more flexible and readable."
   ]
  },
  {
   "cell_type": "markdown",
   "id": "b10c84d6-0314-4ff9-ad99-2c62be069c0f",
   "metadata": {},
   "source": [
    "##### Class work\n",
    "\n",
    "create a variable to display your biography"
   ]
  },
  {
   "cell_type": "code",
   "execution_count": 46,
   "id": "8d1483b4-1f88-45ad-bd65-7e606841b281",
   "metadata": {},
   "outputs": [],
   "source": [
    "name = 'Divine'\n",
    "sex = 'Male'\n",
    "age= 28\n",
    "occupation='Software engineer'\n",
    "description = 'A graduate of Mechanical Engineering with strong background in software and data science'"
   ]
  },
  {
   "cell_type": "code",
   "execution_count": 50,
   "id": "8389fe9d-16ec-4925-a668-3bdf1603bef4",
   "metadata": {},
   "outputs": [
    {
     "name": "stdout",
     "output_type": "stream",
     "text": [
      "My name is Divine\n",
      "I am a Male and 28 years old\n",
      "I am a Software engineer. A graduate of Mechanical Engineering with strong background in software and data science\n"
     ]
    }
   ],
   "source": [
    "print('My name is',name)\n",
    "print(f'I am a {sex} and {age} years old')\n",
    "print(f'I am a {occupation}. {description}')"
   ]
  },
  {
   "cell_type": "markdown",
   "id": "0a909521-4dfb-4b85-9890-0d03c10fc206",
   "metadata": {},
   "source": [
    "#### Project: Biography program"
   ]
  },
  {
   "cell_type": "code",
   "execution_count": 54,
   "id": "0f0706d1-ff3f-4193-8549-e59ad9718643",
   "metadata": {},
   "outputs": [
    {
     "name": "stdout",
     "output_type": "stream",
     "text": [
      "---Biography program---\n"
     ]
    },
    {
     "name": "stdin",
     "output_type": "stream",
     "text": [
      "name:  John\n",
      "sex:  Male\n",
      "age:  28\n",
      "occupation:  Data scientist\n",
      "description:  A graduate of computer science with strong background in Data\n"
     ]
    },
    {
     "name": "stdout",
     "output_type": "stream",
     "text": [
      "\n",
      "---Here is your biography---\n",
      "My name is John\n",
      "I am a Male and 28 years old\n",
      "I am a Data scientist. A graduate of computer science with strong background in Data\n"
     ]
    }
   ],
   "source": [
    "print('---Biography program---')\n",
    "\n",
    "name = input('name: ')\n",
    "sex = input('sex: ')\n",
    "age= input('age: ')\n",
    "occupation=input('occupation: ')\n",
    "description = input('description: ')\n",
    "\n",
    "#display\n",
    "print()\n",
    "print('---Here is your biography---')\n",
    "print('My name is',name)\n",
    "print(f'I am a {sex} and {age} years old')\n",
    "print(f'I am a {occupation}. {description}')"
   ]
  },
  {
   "cell_type": "markdown",
   "id": "9789336e-1ef6-47dd-8cfb-05fdc6eede7e",
   "metadata": {},
   "source": [
    "## Data types"
   ]
  },
  {
   "cell_type": "markdown",
   "id": "60866961-8135-4287-b7ed-d12844a30235",
   "metadata": {},
   "source": [
    "Python provides several built-in data types to represent different kinds of values. Here's an overview of some common data types, their properties, and methods:\n",
    "\n",
    "### 1. **Numeric Types:**\n",
    "   - **Integers (`int`):** Whole numbers without a decimal point.\n",
    "   ```python\n",
    "   x = 10\n",
    "   y = -5\n",
    "   ```\n",
    "\n",
    "   - **Floats (`float`):** Numbers with a decimal point.\n",
    "   ```python\n",
    "   height = 5.9\n",
    "   pi = 3.14\n",
    "   ```\n",
    "\n",
    "   - **Complex Numbers (`complex`):** Numbers in the form `a + bj`, where `a` and `b` are real numbers and `j` is the imaginary unit.\n",
    "   ```python\n",
    "   z = 2 + 3j\n",
    "   ```\n",
    "\n",
    "### 2. **Text Type:**\n",
    "   - **Strings (`str`):** Ordered sequences of characters.\n",
    "   ```python\n",
    "   name = \"John\"\n",
    "   message = 'Hello, World!'\n",
    "   ```\n",
    "\n",
    "   **String Methods:**\n",
    "   ```python\n",
    "   text = \"   Python Programming   \"\n",
    "\n",
    "   # String length\n",
    "   print(len(text))          # Output: 23\n",
    "\n",
    "   # Convert to lowercase\n",
    "   print(text.lower())       # Output: python programming\n",
    "\n",
    "   # Convert to uppercase\n",
    "   print(text.upper())       # Output: PYTHON PROGRAMMING\n",
    "\n",
    "   # Remove leading and trailing whitespaces\n",
    "   print(text.strip())       # Output: Python Programming\n",
    "   ```\n",
    "\n",
    "### 3. **Sequence Types:**\n",
    "   - **Lists (`list`):** Ordered, mutable (changeable) sequences.\n",
    "   ```python\n",
    "   numbers = [1, 2, 3, 4, 5]\n",
    "   ```\n",
    "\n",
    "   **Accessing  Items of a List:** By index: index begins with 0\n",
    "```python\n",
    " \n",
    " numbers[0] # Gives the first item in the list\n",
    " or \n",
    " numbers[-1] ## Gives the last item in the list\n",
    "```\n",
    "\n",
    "\n",
    "   **List Methods:**\n",
    "   ```python\n",
    "   numbers.append(6)      # Add element to the end\n",
    "   numbers.remove(3)      # Remove element by value\n",
    "   numbers.pop(2)         # Remove element by index\n",
    "   print(numbers)         # Output: [1, 2, 4, 5, 6]\n",
    "   ```\n",
    "\n",
    "   - **Tuples (`tuple`):** Ordered, immutable (unchangeable) sequences.\n",
    "   ```python\n",
    "   coordinates = (3, 4)\n",
    "   ```\n",
    "\n",
    "   **Tuple Methods:**\n",
    "   Tuples have fewer methods compared to lists since they are immutable.\n",
    "\n",
    "### 4. **Set Types:**\n",
    "   - **Sets (`set`):** Unordered collections of unique elements.\n",
    "   ```python\n",
    "   colors = {\"red\", \"green\", \"blue\"}\n",
    "   ```\n",
    "\n",
    "   **Set Methods:**\n",
    "   ```python\n",
    "   colors.add(\"yellow\")     # Add element to the set\n",
    "   colors.remove(\"green\")   # Remove element from the set\n",
    "   print(colors)            # Output: {'blue', 'yellow', 'red'}\n",
    "   ```\n",
    "\n",
    "### 5. **Mapping Type:**\n",
    "   - **Dictionaries (`dict`):** Unordered collections of key-value pairs.\n",
    "   ```python\n",
    "   person = {\"name\": \"John\", \"age\": 30, \"city\": \"New York\"}\n",
    "   ```\n",
    "\n",
    "   **Dictionary Methods:**\n",
    "   ```python\n",
    "   person[\"gender\"] = \"Male\"    # Add a new key-value pair\n",
    "   del person[\"age\"]            # Remove key-value pair by key\n",
    "   print(person)                # Output: {'name': 'John', 'city': 'New York', 'gender': 'Male'}\n",
    "   ```\n",
    "\n",
    "### 6. **Boolean Type:**\n",
    "   - **Booleans (`bool`):** Represents truth values, either `True` or `False`.\n",
    "   ```python\n",
    "   is_adult = True\n",
    "   is_student = False\n",
    "   ```\n",
    "\n",
    "These are some of the fundamental data types in Python along with a few examples of their properties and methods. Understanding these types and their associated methods is essential for effective programming in Python. If you have specific questions or if there's a particular aspect you'd like more detail on, feel free to ask!"
   ]
  },
  {
   "cell_type": "code",
   "execution_count": null,
   "id": "675144e5-39c9-4c5b-b31f-e44134329c7a",
   "metadata": {},
   "outputs": [],
   "source": []
  },
  {
   "cell_type": "markdown",
   "id": "8f1d2d55-ab7e-4002-9393-c646d5216ceb",
   "metadata": {},
   "source": [
    "## Examples"
   ]
  },
  {
   "cell_type": "markdown",
   "id": "fcf336ed-f960-4c6b-bb47-fd825db8a336",
   "metadata": {},
   "source": [
    "#### Int"
   ]
  },
  {
   "cell_type": "code",
   "execution_count": 11,
   "id": "e5903e0b-3716-4e33-b15a-b78dabb71334",
   "metadata": {},
   "outputs": [],
   "source": [
    "# numbers with no decimal points\n",
    "age = 78"
   ]
  },
  {
   "cell_type": "code",
   "execution_count": 13,
   "id": "7536e163-e1aa-4725-b6d8-00dc7dda7931",
   "metadata": {},
   "outputs": [
    {
     "data": {
      "text/plain": [
       "78"
      ]
     },
     "execution_count": 13,
     "metadata": {},
     "output_type": "execute_result"
    }
   ],
   "source": [
    "age"
   ]
  },
  {
   "cell_type": "code",
   "execution_count": 14,
   "id": "64b5cdae-f6c7-4e89-b484-109794674f4e",
   "metadata": {},
   "outputs": [
    {
     "data": {
      "text/plain": [
       "int"
      ]
     },
     "execution_count": 14,
     "metadata": {},
     "output_type": "execute_result"
    }
   ],
   "source": [
    "type(age)"
   ]
  },
  {
   "cell_type": "markdown",
   "id": "fd7d4312-b707-4bd2-a784-930c86f99732",
   "metadata": {},
   "source": [
    "#### Floats"
   ]
  },
  {
   "cell_type": "code",
   "execution_count": 17,
   "id": "2f253709-2141-4413-9d09-98d84889e3ea",
   "metadata": {},
   "outputs": [],
   "source": [
    "# numbers with decimal points\n",
    "height = 6.2"
   ]
  },
  {
   "cell_type": "code",
   "execution_count": 19,
   "id": "81a98e3e-097e-4fe1-bf39-b157acba3070",
   "metadata": {},
   "outputs": [
    {
     "data": {
      "text/plain": [
       "6.2"
      ]
     },
     "execution_count": 19,
     "metadata": {},
     "output_type": "execute_result"
    }
   ],
   "source": [
    "height"
   ]
  },
  {
   "cell_type": "code",
   "execution_count": 21,
   "id": "f0cf1909-2073-4e97-9f88-857453387f0f",
   "metadata": {},
   "outputs": [
    {
     "data": {
      "text/plain": [
       "float"
      ]
     },
     "execution_count": 21,
     "metadata": {},
     "output_type": "execute_result"
    }
   ],
   "source": [
    "type(height)"
   ]
  },
  {
   "cell_type": "markdown",
   "id": "2485cba9-458e-421f-8f2e-17bd35770155",
   "metadata": {},
   "source": [
    "#### String(str)"
   ]
  },
  {
   "cell_type": "code",
   "execution_count": 24,
   "id": "1ca9cd73-8673-4841-a1c0-6e97a7e34cd3",
   "metadata": {},
   "outputs": [],
   "source": [
    "# any value enclosed with single or double qoutes\n",
    "name = 'David'\n",
    "sex = \"Male\""
   ]
  },
  {
   "cell_type": "code",
   "execution_count": 26,
   "id": "b433aa7f-dc22-4f69-bd25-be6a94632a77",
   "metadata": {},
   "outputs": [
    {
     "data": {
      "text/plain": [
       "'David'"
      ]
     },
     "execution_count": 26,
     "metadata": {},
     "output_type": "execute_result"
    }
   ],
   "source": [
    "name"
   ]
  },
  {
   "cell_type": "code",
   "execution_count": 28,
   "id": "89ccd4a0-f940-4d68-a8f3-cc224a295394",
   "metadata": {},
   "outputs": [
    {
     "data": {
      "text/plain": [
       "'Male'"
      ]
     },
     "execution_count": 28,
     "metadata": {},
     "output_type": "execute_result"
    }
   ],
   "source": [
    "sex"
   ]
  },
  {
   "cell_type": "code",
   "execution_count": 30,
   "id": "15b81c30-0fb7-462c-9502-7600ffd4192b",
   "metadata": {},
   "outputs": [
    {
     "data": {
      "text/plain": [
       "str"
      ]
     },
     "execution_count": 30,
     "metadata": {},
     "output_type": "execute_result"
    }
   ],
   "source": [
    "type(name)"
   ]
  },
  {
   "cell_type": "markdown",
   "id": "44cf7c6b-23e3-440b-8625-d9bc5d043ace",
   "metadata": {},
   "source": [
    "#### Mecelenoues"
   ]
  },
  {
   "cell_type": "markdown",
   "id": "8013679b-c48c-4fa2-8ce9-a354b92c2ec5",
   "metadata": {},
   "source": [
    "##### Class work, If:\n",
    "y = x + m(c)"
   ]
  },
  {
   "cell_type": "code",
   "execution_count": 66,
   "id": "07074a8b-662e-4cf2-bfa7-1909d1818d22",
   "metadata": {},
   "outputs": [],
   "source": [
    "x = 5\n",
    "m = '4'\n",
    "c= 3.5"
   ]
  },
  {
   "cell_type": "markdown",
   "id": "9f029ef4-3133-408b-973a-d9ef7f91b76a",
   "metadata": {},
   "source": [
    "##### Find y"
   ]
  },
  {
   "cell_type": "code",
   "execution_count": 69,
   "id": "502f3852-a5bc-47e7-9955-ab32af30b2e5",
   "metadata": {},
   "outputs": [],
   "source": [
    "#convert m to int us the int() method\n",
    "m = int(m)"
   ]
  },
  {
   "cell_type": "code",
   "execution_count": 70,
   "id": "73cdcea7-b36e-4026-9744-6346c0997fcc",
   "metadata": {},
   "outputs": [
    {
     "data": {
      "text/plain": [
       "4"
      ]
     },
     "execution_count": 70,
     "metadata": {},
     "output_type": "execute_result"
    }
   ],
   "source": [
    "m"
   ]
  },
  {
   "cell_type": "code",
   "execution_count": 73,
   "id": "94225c37-2b90-477b-93c1-733942ef187a",
   "metadata": {},
   "outputs": [],
   "source": [
    "y = x+m*c"
   ]
  },
  {
   "cell_type": "code",
   "execution_count": 74,
   "id": "6f16bd91-70af-498d-8233-dd22979d2c6e",
   "metadata": {},
   "outputs": [
    {
     "data": {
      "text/plain": [
       "19.0"
      ]
     },
     "execution_count": 74,
     "metadata": {},
     "output_type": "execute_result"
    }
   ],
   "source": [
    "y"
   ]
  },
  {
   "cell_type": "markdown",
   "id": "19c56499-5e9b-4f9f-9f08-f5164bd837f6",
   "metadata": {},
   "source": [
    "Class work: Given the text below\n",
    "\n",
    "`name = '    John Divine'`\n",
    "\n",
    "- Remove unneccssary white space\n",
    "- Change the texts to upper case\n",
    "- Split the `name` into `first` and `lastname`"
   ]
  },
  {
   "cell_type": "code",
   "execution_count": 86,
   "id": "28079f76-12ca-45b9-a047-d4ba0801c867",
   "metadata": {},
   "outputs": [],
   "source": [
    "name = '    John Divine'"
   ]
  },
  {
   "cell_type": "code",
   "execution_count": 88,
   "id": "5a0f47b6-4ee1-46bd-8943-9e86a023d53f",
   "metadata": {},
   "outputs": [],
   "source": [
    "name = name.strip()"
   ]
  },
  {
   "cell_type": "code",
   "execution_count": 90,
   "id": "bfb41997-cc96-499b-b4b8-a7e0567115f8",
   "metadata": {},
   "outputs": [
    {
     "data": {
      "text/plain": [
       "'John Divine'"
      ]
     },
     "execution_count": 90,
     "metadata": {},
     "output_type": "execute_result"
    }
   ],
   "source": [
    "name"
   ]
  },
  {
   "cell_type": "code",
   "execution_count": 92,
   "id": "1ce1cadb-72fd-4699-b6a0-caa2cde79089",
   "metadata": {},
   "outputs": [],
   "source": [
    "name = name.upper()"
   ]
  },
  {
   "cell_type": "code",
   "execution_count": 94,
   "id": "ef76c333-9c77-4383-9338-2cd88a3df4b8",
   "metadata": {},
   "outputs": [
    {
     "data": {
      "text/plain": [
       "'JOHN DIVINE'"
      ]
     },
     "execution_count": 94,
     "metadata": {},
     "output_type": "execute_result"
    }
   ],
   "source": [
    "name"
   ]
  },
  {
   "cell_type": "code",
   "execution_count": 98,
   "id": "eeec6b9e-6d35-447f-a976-41eb5c3d6aef",
   "metadata": {},
   "outputs": [],
   "source": [
    "firstName, lastName = name.split(' ')"
   ]
  },
  {
   "cell_type": "code",
   "execution_count": 100,
   "id": "0b058ca5-48fd-4982-806a-71dd8b5f92c1",
   "metadata": {},
   "outputs": [
    {
     "data": {
      "text/plain": [
       "'JOHN'"
      ]
     },
     "execution_count": 100,
     "metadata": {},
     "output_type": "execute_result"
    }
   ],
   "source": [
    "firstName"
   ]
  },
  {
   "cell_type": "code",
   "execution_count": 102,
   "id": "03f2b8eb-4b67-457f-9829-da59d0b999f4",
   "metadata": {},
   "outputs": [
    {
     "data": {
      "text/plain": [
       "'DIVINE'"
      ]
     },
     "execution_count": 102,
     "metadata": {},
     "output_type": "execute_result"
    }
   ],
   "source": [
    "lastName"
   ]
  },
  {
   "cell_type": "code",
   "execution_count": null,
   "id": "575ee758-38c8-48f7-888a-defbc9d341e8",
   "metadata": {},
   "outputs": [],
   "source": []
  },
  {
   "cell_type": "markdown",
   "id": "8e4c8155-aaf1-455f-85e0-ac7f7cb6325a",
   "metadata": {},
   "source": [
    "## List"
   ]
  },
  {
   "cell_type": "markdown",
   "id": "60846ecf-cf1a-4b5e-841b-89e7099139ea",
   "metadata": {},
   "source": [
    "Lets same i have a students name, age, course and grade.\n",
    "initially we store the like this:\n",
    "\n",
    "````python\n",
    "name = 'Samuel'\n",
    "age = 25\n",
    "course = 'data science'\n",
    "grade = 76\n",
    "\n",
    "```\n",
    "\n",
    "using list we can store it \n",
    "\n",
    "```python\n",
    "student = ['Samuel',25,'data science',76]\n",
    "```\n",
    "\n"
   ]
  },
  {
   "cell_type": "code",
   "execution_count": 5,
   "id": "f2ef784f-d9f8-411c-b465-d79e49db958e",
   "metadata": {},
   "outputs": [],
   "source": [
    "employee = ['Hassan',34, 'Marketing']"
   ]
  },
  {
   "cell_type": "code",
   "execution_count": 7,
   "id": "292cf4d2-9be8-45e9-8cee-acffac08bb00",
   "metadata": {},
   "outputs": [
    {
     "data": {
      "text/plain": [
       "['Hassan', 34, 'Marketing']"
      ]
     },
     "execution_count": 7,
     "metadata": {},
     "output_type": "execute_result"
    }
   ],
   "source": [
    "employee"
   ]
  },
  {
   "cell_type": "code",
   "execution_count": 15,
   "id": "14e1f406-b335-4d0d-bfbe-1c96a5066e4f",
   "metadata": {},
   "outputs": [
    {
     "name": "stdout",
     "output_type": "stream",
     "text": [
      "My name is Hassan i am  34 years old. And i work at Marketing department.\n"
     ]
    }
   ],
   "source": [
    "print('My name is',employee[0], 'i am ',employee[1],'years old. And i work at',employee[2],'department.')"
   ]
  },
  {
   "cell_type": "markdown",
   "id": "6da9313f-a33b-4f96-bb75-bb27b86b8b99",
   "metadata": {},
   "source": [
    "##### F strings"
   ]
  },
  {
   "cell_type": "code",
   "execution_count": 18,
   "id": "8c3c9f37-d2d8-4003-ae2a-e3991393c233",
   "metadata": {},
   "outputs": [
    {
     "name": "stdout",
     "output_type": "stream",
     "text": [
      "My name is Hassan i am 34 years old. And i work in the Marketing department.\n"
     ]
    }
   ],
   "source": [
    "print(f'My name is {employee[0]} i am {employee[1]} years old. And i work in the {employee[2]} department.')"
   ]
  },
  {
   "cell_type": "code",
   "execution_count": null,
   "id": "91e042e3-f83e-4200-a627-d261ddeecda8",
   "metadata": {},
   "outputs": [],
   "source": []
  },
  {
   "cell_type": "markdown",
   "id": "9ac2a574-0a94-4adc-8c00-373dc0c42a17",
   "metadata": {},
   "source": [
    "#### Nested List:\n",
    "Example2"
   ]
  },
  {
   "cell_type": "code",
   "execution_count": 118,
   "id": "2931eb4c-24e6-4e1a-af90-16b0daee47cd",
   "metadata": {},
   "outputs": [],
   "source": [
    "employees = [\n",
    "            ['Hassan',34, 'Marketing'],\n",
    "            ['Abey', 30,'Sales'],\n",
    "            ['Sandra', 26, 'Facilities'],\n",
    "            ['David', 24, 'Facilities'],\n",
    "            ['Junior', 26, 'HR'],\n",
    "            ['Mark', 26, 'Finance'],\n",
    "            ['John', 22, 'Accounting'],\n",
    "            ['Tunde', 27, 'Delivery'],\n",
    "            ['Boby', 28, 'sale'],\n",
    "    \n",
    "           ]"
   ]
  },
  {
   "cell_type": "code",
   "execution_count": 120,
   "id": "76e7e927-3a1d-42fd-b7e3-8ec31728be53",
   "metadata": {},
   "outputs": [
    {
     "data": {
      "text/plain": [
       "[['Hassan', 34, 'Marketing'],\n",
       " ['Abey', 30, 'Sales'],\n",
       " ['Sandra', 26, 'Facilities'],\n",
       " ['David', 24, 'Facilities'],\n",
       " ['Junior', 26, 'HR'],\n",
       " ['Mark', 26, 'Finance'],\n",
       " ['John', 22, 'Accounting'],\n",
       " ['Tunde', 27, 'Delivery'],\n",
       " ['Boby', 28, 'sale']]"
      ]
     },
     "execution_count": 120,
     "metadata": {},
     "output_type": "execute_result"
    }
   ],
   "source": [
    "employees"
   ]
  },
  {
   "cell_type": "markdown",
   "id": "1c672e74-c1cb-4e39-be68-af13bbac5242",
   "metadata": {},
   "source": [
    "#### Accessing Items in Nested list"
   ]
  },
  {
   "cell_type": "markdown",
   "id": "807b54a5-722c-442e-b32b-9f398e018075",
   "metadata": {},
   "source": [
    "##### Give the data of the first and second employee"
   ]
  },
  {
   "cell_type": "code",
   "execution_count": 123,
   "id": "67ecc084-fde9-4405-9030-6340ae3d202a",
   "metadata": {},
   "outputs": [
    {
     "data": {
      "text/plain": [
       "['Hassan', 34, 'Marketing']"
      ]
     },
     "execution_count": 123,
     "metadata": {},
     "output_type": "execute_result"
    }
   ],
   "source": [
    "employees[0]"
   ]
  },
  {
   "cell_type": "code",
   "execution_count": 124,
   "id": "0e149635-5b36-4951-b9e5-3d696b47b2d9",
   "metadata": {},
   "outputs": [
    {
     "data": {
      "text/plain": [
       "['Abey', 30, 'Sales']"
      ]
     },
     "execution_count": 124,
     "metadata": {},
     "output_type": "execute_result"
    }
   ],
   "source": [
    "employees[1]"
   ]
  },
  {
   "cell_type": "markdown",
   "id": "43f7cbca-10b6-4630-986d-a9f7ff568e11",
   "metadata": {},
   "source": [
    "##### what is the first employees name"
   ]
  },
  {
   "cell_type": "code",
   "execution_count": 126,
   "id": "ce6d22ed-ebf4-4074-b1cf-d3fb48429ec9",
   "metadata": {},
   "outputs": [
    {
     "data": {
      "text/plain": [
       "'Hassan'"
      ]
     },
     "execution_count": 126,
     "metadata": {},
     "output_type": "execute_result"
    }
   ],
   "source": [
    "employees[0][0]"
   ]
  },
  {
   "cell_type": "markdown",
   "id": "d26179e4-f632-414c-bd3c-964e1357aab5",
   "metadata": {},
   "source": [
    "##### what is the first employees age"
   ]
  },
  {
   "cell_type": "code",
   "execution_count": 128,
   "id": "7f6e68bf-8589-42ec-b5f0-aba8e1f4aa10",
   "metadata": {},
   "outputs": [
    {
     "data": {
      "text/plain": [
       "34"
      ]
     },
     "execution_count": 128,
     "metadata": {},
     "output_type": "execute_result"
    }
   ],
   "source": [
    "employees[0][1]"
   ]
  },
  {
   "cell_type": "code",
   "execution_count": 129,
   "id": "1bd915da-8bff-450b-b4be-e736e4a5bfc1",
   "metadata": {},
   "outputs": [
    {
     "name": "stdout",
     "output_type": "stream",
     "text": [
      "Top four TechMotions employees\n",
      "Employee Names are Hassan, Abey, Sandra, David\n"
     ]
    }
   ],
   "source": [
    "print('Top four TechMotions employees')\n",
    "print(f'Employee Names are {employees[0][0]}, {employee[1][0]}, {employee[2][0]}, {employee[3][0]}')"
   ]
  },
  {
   "cell_type": "code",
   "execution_count": null,
   "id": "55ffef69-e0ed-4bc9-843d-f56684ddb56e",
   "metadata": {},
   "outputs": [],
   "source": []
  },
  {
   "cell_type": "code",
   "execution_count": null,
   "id": "54fcd220-1d1a-4d38-a804-d432bdc20133",
   "metadata": {},
   "outputs": [],
   "source": []
  },
  {
   "cell_type": "code",
   "execution_count": 152,
   "id": "2654d4fe-6d7b-4ee1-be20-5479bfbbebfe",
   "metadata": {},
   "outputs": [
    {
     "name": "stdin",
     "output_type": "stream",
     "text": [
      "Please select whom to view eg, first, second,etc:  first\n"
     ]
    },
    {
     "name": "stdout",
     "output_type": "stream",
     "text": [
      "Name is Hassan\n",
      "Age is 34\n"
     ]
    }
   ],
   "source": [
    "selected = input('Please select whom to view eg, first, second,etc: ')\n",
    "\n",
    "if selected=='first':\n",
    "    print(f'Name is {employees[0][0]}')\n",
    "    print(f'Age is {employees[0][1]}') \n",
    "    \n",
    "elif selected=='second':\n",
    "    print(f'Name is {employees[1][0]}')\n",
    "    print(f'Age is {employees[1][1]}') \n",
    "    \n",
    "elif selected=='third':\n",
    "    print(f'Name is {employees[2][0]}')\n",
    "    print(f'Age is {employees[2][1]}')\n",
    "else:\n",
    "    print('Wrong selection')"
   ]
  },
  {
   "cell_type": "markdown",
   "id": "ab4ecac6-665f-4e25-9c41-7cd2f04f9149",
   "metadata": {},
   "source": [
    "##### slicing\n",
    "```\n",
    "Syntax: listName[a:b:c]\n",
    "a = start index\n",
    "b = end index\n",
    "c = skip\n",
    "```"
   ]
  },
  {
   "cell_type": "markdown",
   "id": "c3432714-8949-41e7-a492-56ba1cf87b8a",
   "metadata": {},
   "source": [
    "##### Displayig the first 3 or 4 employees data"
   ]
  },
  {
   "cell_type": "code",
   "execution_count": 155,
   "id": "9c4e14f9-219c-4ed6-bf9f-612416246070",
   "metadata": {},
   "outputs": [
    {
     "name": "stdout",
     "output_type": "stream",
     "text": [
      "[['Hassan', 34, 'Marketing'], ['Abey', 30, 'Sales'], ['Sandra', 26, 'Facilities']]\n"
     ]
    }
   ],
   "source": [
    "print(employees[0:3])"
   ]
  },
  {
   "cell_type": "code",
   "execution_count": 156,
   "id": "5755b023-1c89-4fcd-a60b-4f0dd8c38a24",
   "metadata": {},
   "outputs": [
    {
     "name": "stdout",
     "output_type": "stream",
     "text": [
      "[['Hassan', 34, 'Marketing'], ['Abey', 30, 'Sales'], ['Sandra', 26, 'Facilities']]\n"
     ]
    }
   ],
   "source": [
    "print(employees[:3])"
   ]
  },
  {
   "cell_type": "markdown",
   "id": "621e3106-d1b2-413a-8a83-9623c59c5d1d",
   "metadata": {},
   "source": [
    "##### Displayig the first and fourth employees data"
   ]
  },
  {
   "cell_type": "code",
   "execution_count": 159,
   "id": "d908e0af-7cbc-47be-af5b-c467237ca4a5",
   "metadata": {},
   "outputs": [
    {
     "name": "stdout",
     "output_type": "stream",
     "text": [
      "[['Hassan', 34, 'Marketing'], ['David', 24, 'Facilities']]\n"
     ]
    }
   ],
   "source": [
    "print(employees[0:4:3])"
   ]
  },
  {
   "cell_type": "markdown",
   "id": "ea3f6d3f-a482-46f2-9e5a-cc352e0844d4",
   "metadata": {},
   "source": [
    "##### Displayig the last employees data"
   ]
  },
  {
   "cell_type": "code",
   "execution_count": 163,
   "id": "cef2c0bb-2492-4888-98a6-45416e4747a3",
   "metadata": {},
   "outputs": [
    {
     "name": "stdout",
     "output_type": "stream",
     "text": [
      "['Boby', 28, 'sale']\n"
     ]
    }
   ],
   "source": [
    "print(employees[-1])"
   ]
  },
  {
   "cell_type": "markdown",
   "id": "8d277302-4327-4bee-ab30-9f3412bbeee0",
   "metadata": {},
   "source": [
    "Updateing items to a list use: `=`"
   ]
  },
  {
   "cell_type": "code",
   "execution_count": 168,
   "id": "258aaa6f-2039-42bc-9a45-5b241a3edf75",
   "metadata": {},
   "outputs": [],
   "source": [
    "employees[0][1]=34"
   ]
  },
  {
   "cell_type": "code",
   "execution_count": 170,
   "id": "f800f42c-668f-4d9f-b20a-4343d1c57923",
   "metadata": {},
   "outputs": [
    {
     "name": "stdout",
     "output_type": "stream",
     "text": [
      "34\n"
     ]
    }
   ],
   "source": [
    "print(employees[0][1])"
   ]
  },
  {
   "cell_type": "markdown",
   "id": "ab4de1ba-3b53-475a-a908-99b51cc61d03",
   "metadata": {},
   "source": [
    "#### List Methods and Properties"
   ]
  },
  {
   "cell_type": "markdown",
   "id": "6e04bdf3-4fcc-4dd8-beb2-a78cc3a787a1",
   "metadata": {},
   "source": [
    "Checking for number of items in a list: use `len`"
   ]
  },
  {
   "cell_type": "code",
   "execution_count": 174,
   "id": "d39e8263-e056-4914-84e6-48a8d0e740e5",
   "metadata": {},
   "outputs": [
    {
     "name": "stdout",
     "output_type": "stream",
     "text": [
      "9\n"
     ]
    }
   ],
   "source": [
    "print(len(employees))"
   ]
  },
  {
   "cell_type": "markdown",
   "id": "a745cdf7-b2ed-4499-bf4a-ea9615c33994",
   "metadata": {},
   "source": [
    "Adding items to a list: use `append`"
   ]
  },
  {
   "cell_type": "code",
   "execution_count": 176,
   "id": "12bed6a9-aa64-4a7f-b234-e59ea63ecbc6",
   "metadata": {},
   "outputs": [],
   "source": [
    "employees.append(['Taiwo',27,'Marketing'])"
   ]
  },
  {
   "cell_type": "code",
   "execution_count": 177,
   "id": "3a973d2c-2d63-44d9-973c-fb924e471e50",
   "metadata": {},
   "outputs": [
    {
     "name": "stdout",
     "output_type": "stream",
     "text": [
      "[['Hassan', 34, 'Marketing'], ['Abey', 30, 'Sales'], ['Sandra', 26, 'Facilities'], ['David', 24, 'Facilities'], ['Junior', 26, 'HR'], ['Mark', 26, 'Finance'], ['John', 22, 'Accounting'], ['Tunde', 27, 'Delivery'], ['Boby', 28, 'sale'], ['Taiwo', 27, 'Marketing']]\n"
     ]
    }
   ],
   "source": [
    "print(employees)"
   ]
  },
  {
   "cell_type": "markdown",
   "id": "47f881f2-932c-4629-9477-dc8f3218ae12",
   "metadata": {},
   "source": [
    "Removing items to a list: use `pop`"
   ]
  },
  {
   "cell_type": "code",
   "execution_count": 179,
   "id": "5a99387c-d3ba-42f1-a150-8b6fc54b9fac",
   "metadata": {},
   "outputs": [
    {
     "data": {
      "text/plain": [
       "['Sandra', 26, 'Facilities']"
      ]
     },
     "execution_count": 179,
     "metadata": {},
     "output_type": "execute_result"
    }
   ],
   "source": [
    "employees.pop(2)"
   ]
  },
  {
   "cell_type": "code",
   "execution_count": 180,
   "id": "4f6505d2-fbda-4580-87e4-c5cab996a8c2",
   "metadata": {},
   "outputs": [
    {
     "name": "stdout",
     "output_type": "stream",
     "text": [
      "[['Hassan', 34, 'Marketing'], ['Abey', 30, 'Sales'], ['David', 24, 'Facilities'], ['Junior', 26, 'HR'], ['Mark', 26, 'Finance'], ['John', 22, 'Accounting'], ['Tunde', 27, 'Delivery'], ['Boby', 28, 'sale'], ['Taiwo', 27, 'Marketing']]\n"
     ]
    }
   ],
   "source": [
    "print(employees)"
   ]
  },
  {
   "cell_type": "code",
   "execution_count": null,
   "id": "136f7804-18b4-4d74-856f-b4d6d1aac7e8",
   "metadata": {},
   "outputs": [],
   "source": []
  },
  {
   "cell_type": "markdown",
   "id": "35333ed4-3a9e-4515-81b4-a3f39cd9cb83",
   "metadata": {},
   "source": [
    "### Tuples (tuple)"
   ]
  },
  {
   "cell_type": "markdown",
   "id": "0fdd7d81-95d0-4b14-b000-2adf6a7af2cc",
   "metadata": {},
   "source": [
    "A tuple in Python is a collection of ordered and immutable elements. This means that once you create a tuple, you cannot modify its content (add, remove, or change elements). Tuples are defined using parentheses `()` and can contain elements of different data types. Here's a basic overview of Python tuples:\n",
    "\n",
    "### Creating Tuples:\n",
    "\n",
    "You can create a tuple by enclosing a sequence of elements within parentheses:\n",
    "\n",
    "\n",
    "```python\n",
    "my_tuple = (1, 2, 3, 'hello', 3.14)\n",
    "```\n",
    "\n",
    "You can also create an empty tuple:\n",
    "\n",
    "```python\n",
    "empty_tuple = ()\n",
    "```\n",
    "\n",
    "### Accessing Elements:\n",
    "\n",
    "You can access elements in a tuple using indexing, similar to lists:\n",
    "\n",
    "```python\n",
    "print(my_tuple[0])   # Output: 1\n",
    "print(my_tuple[3])   # Output: 'hello'\n",
    "```\n",
    "\n",
    "### Tuple Slicing:\n",
    "\n",
    "You can use slicing to extract a portion of the tuple:\n",
    "\n",
    "```python\n",
    "subset_tuple = my_tuple[1:4]\n",
    "print(subset_tuple)  # Output: (2, 3, 'hello')\n",
    "```\n",
    "\n",
    "### Tuple Concatenation:\n",
    "\n",
    "You can concatenate tuples using the `+` operator:\n",
    "\n",
    "```python\n",
    "tuple1 = (1, 2, 3)\n",
    "tuple2 = ('a', 'b', 'c')\n",
    "concatenated_tuple = tuple1 + tuple2\n",
    "print(concatenated_tuple)  # Output: (1, 2, 3, 'a', 'b', 'c')\n",
    "```\n",
    "\n",
    "### Tuple Methods:\n",
    "\n",
    "Tuples have a few built-in methods, though they are more limited compared to lists. One notable method is `count()` to count occurrences of a value and `index()` to find the index of a value:\n",
    "\n",
    "```python\n",
    "my_tuple = (1, 2, 2, 3, 3, 3)\n",
    "print(my_tuple.count(3))    # Output: 3 (count of occurrences of 3)\n",
    "print(my_tuple.index(2))    # Output: 1 (index of the first occurrence of 2)\n",
    "```\n",
    "\n",
    "### Unpacking Tuples:\n",
    "\n",
    "You can unpack a tuple into individual variables:\n",
    "\n",
    "```python\n",
    "coordinates = (3, 4)\n",
    "x, y = coordinates\n",
    "print(x)  # Output: 3\n",
    "print(y)  # Output: 4\n",
    "```\n",
    "\n",
    "### Immutability:\n",
    "\n",
    "Tuples are immutable, meaning you cannot modify their elements or size once they are created. However, you can create a new tuple with modifications:\n",
    "\n",
    "```python\n",
    "immutable_tuple = (1, 2, 3)\n",
    "modified_tuple = immutable_tuple + (4, 5)\n",
    "print(modified_tuple)  # Output: (1, 2, 3, 4, 5)\n",
    "```\n",
    "\n",
    "### Use Cases:\n",
    "\n",
    "- Tuples are suitable for situations where you want to represent a fixed collection of values that should not be changed.\n",
    "- They are often used for functions that return multiple values because you can easily unpack the result.\n",
    "\n",
    "```python\n",
    "def get_coordinates():\n",
    "    return (3, 4)\n",
    "\n",
    "x, y = get_coordinates()\n",
    "print(x, y)  # Output: 3 4\n",
    "```\n",
    "\n",
    "Understanding tuples is essential, especially when you want to work with immutable and ordered collections of data in Python.!"
   ]
  },
  {
   "cell_type": "markdown",
   "id": "b755bfd3-39cd-4abb-8c6d-176050ce1749",
   "metadata": {},
   "source": [
    "### Creating Tuples:\n",
    "\n",
    "You can create a tuple by enclosing a sequence of elements within parentheses:\n"
   ]
  },
  {
   "cell_type": "code",
   "execution_count": 8,
   "id": "60005bdf-5844-4886-9cad-109efb60dc56",
   "metadata": {},
   "outputs": [],
   "source": [
    "cars = ('Honda', 'Toyota','Mercedes Benz', 'Tesla',4000, 5000, 6500, 10000)"
   ]
  },
  {
   "cell_type": "markdown",
   "id": "02c75c19-6636-4c4e-89a0-7672301b1104",
   "metadata": {},
   "source": [
    "##### Accessing Elements:\n",
    "You can access elements in a tuple using indexing, similar to lists:\n"
   ]
  },
  {
   "cell_type": "markdown",
   "id": "d5bffef1-0950-469a-a634-1a469768e6ae",
   "metadata": {},
   "source": [
    "##### which car is the most expensive"
   ]
  },
  {
   "cell_type": "code",
   "execution_count": 17,
   "id": "fa276cf3-e469-4ade-8204-949c66d4837d",
   "metadata": {},
   "outputs": [
    {
     "data": {
      "text/plain": [
       "'Tesla'"
      ]
     },
     "execution_count": 17,
     "metadata": {},
     "output_type": "execute_result"
    }
   ],
   "source": [
    "cars[3]"
   ]
  },
  {
   "cell_type": "markdown",
   "id": "c1c60650-0d5e-4d13-a9ba-10848f1517c4",
   "metadata": {},
   "source": [
    "##### which car is the most popular car in Africa"
   ]
  },
  {
   "cell_type": "code",
   "execution_count": 20,
   "id": "9acb4313-6a25-4482-8d3d-773af8cc90f9",
   "metadata": {},
   "outputs": [
    {
     "data": {
      "text/plain": [
       "'Toyota'"
      ]
     },
     "execution_count": 20,
     "metadata": {},
     "output_type": "execute_result"
    }
   ],
   "source": [
    "cars[1]"
   ]
  },
  {
   "cell_type": "markdown",
   "id": "76576f10-f448-41bf-86d7-4181c47e1693",
   "metadata": {},
   "source": [
    "##### Tuple Slicing:¶\n",
    "You can use slicing to extract a portion of the tuple"
   ]
  },
  {
   "cell_type": "markdown",
   "id": "e208d4fd-240a-41d3-8ab1-ecefed978ae6",
   "metadata": {},
   "source": [
    "##### Top 2 most expensive cars"
   ]
  },
  {
   "cell_type": "code",
   "execution_count": 29,
   "id": "21760860-5ee3-4df6-af55-d76d96e526f3",
   "metadata": {},
   "outputs": [
    {
     "data": {
      "text/plain": [
       "('Mercedes Benz', 'Tesla')"
      ]
     },
     "execution_count": 29,
     "metadata": {},
     "output_type": "execute_result"
    }
   ],
   "source": [
    "cars[2:4] "
   ]
  },
  {
   "cell_type": "markdown",
   "id": "9222b4f2-a0fc-44c0-8dc8-049e281b8c2c",
   "metadata": {},
   "source": [
    "##### Tuple Methods:¶\n",
    "Tuples have a few built-in methods, though they are more limited compared to lists. One notable method is count() to count occurrences of a value and index() to find the index of a value:\n",
    "```python\n",
    "my_tuple = (1, 2, 2, 3, 3, 3)\n",
    "print(my_tuple.count(3))    # Output: 3 (count of occurrences of 3)\n",
    "print(my_tuple.index(2))    # Output: 1 (index of the first occurrence of 2)\n",
    "```"
   ]
  },
  {
   "cell_type": "code",
   "execution_count": 33,
   "id": "19c8ce5b-64ca-439e-a381-f41edb0ea4bc",
   "metadata": {},
   "outputs": [],
   "source": [
    "# Assignment: Create a Sales management app"
   ]
  },
  {
   "cell_type": "code",
   "execution_count": 39,
   "id": "31a35486-1022-4780-a4dd-2aff5df84e23",
   "metadata": {},
   "outputs": [],
   "source": [
    "sales=('fanta','coke','digestive biscuit', \n",
    "       'minimi chinchin','coke', 'fanta',\n",
    "       'malt','dano milk','malt', \n",
    "       'coke', 'coke', 'malt','pepsi', 'coke')"
   ]
  },
  {
   "cell_type": "markdown",
   "id": "0450d865-cb02-40fb-bca6-b7f6e1683b43",
   "metadata": {},
   "source": [
    "##### How many number of coke and malt were sold"
   ]
  },
  {
   "cell_type": "code",
   "execution_count": 50,
   "id": "5e3ca765-02a6-4fe3-a81e-6351508ab00a",
   "metadata": {},
   "outputs": [],
   "source": [
    "coke = sales.count('coke')"
   ]
  },
  {
   "cell_type": "code",
   "execution_count": 52,
   "id": "bbdeedad-f68f-4b76-a0c7-901c1005fbf7",
   "metadata": {},
   "outputs": [],
   "source": [
    "malt = sales.count('malt')"
   ]
  },
  {
   "cell_type": "code",
   "execution_count": 56,
   "id": "539389c4-f758-4a50-8841-1da4c9f91568",
   "metadata": {},
   "outputs": [
    {
     "name": "stdout",
     "output_type": "stream",
     "text": [
      "From the analysis 5 cokes were sold and 3 malts were sold\n"
     ]
    }
   ],
   "source": [
    "print(f'From the analysis {coke} cokes were sold and {malt} malts were sold')"
   ]
  },
  {
   "cell_type": "code",
   "execution_count": 62,
   "id": "9bf2ea1f-c97e-42be-bc3b-b47e16d8055a",
   "metadata": {},
   "outputs": [
    {
     "name": "stdout",
     "output_type": "stream",
     "text": [
      "From the analysis 5 cokes were sold and 3 malts were sold\n"
     ]
    }
   ],
   "source": [
    "print('From the analysis %s cokes were sold and %s malts were sold'%(coke,malt))"
   ]
  },
  {
   "cell_type": "markdown",
   "id": "716dbdeb-3916-45ce-9c9d-fe9bcda13671",
   "metadata": {},
   "source": [
    "#### Immutability:\n",
    "Tuples are immutable, meaning you cannot modify their elements or size once they are created. However, you can create a new tuple with modifications:\n",
    "\n",
    "immutable_tuple = (1, 2, 3)\n",
    "modified_tuple = immutable_tuple + (4, 5)\n",
    "print(modified_tuple)  # Output: (1, 2, 3, 4, 5)"
   ]
  },
  {
   "cell_type": "code",
   "execution_count": 65,
   "id": "d8ba8a0c-3840-4e5e-bd8b-c86764aa60f0",
   "metadata": {},
   "outputs": [],
   "source": [
    "scores = (34,56,76,45,87)"
   ]
  },
  {
   "cell_type": "code",
   "execution_count": 67,
   "id": "d78ea77b-07fc-4302-a418-cae5b6f1bcb0",
   "metadata": {},
   "outputs": [
    {
     "ename": "TypeError",
     "evalue": "'tuple' object does not support item assignment",
     "output_type": "error",
     "traceback": [
      "\u001b[0;31m---------------------------------------------------------------------------\u001b[0m",
      "\u001b[0;31mTypeError\u001b[0m                                 Traceback (most recent call last)",
      "Cell \u001b[0;32mIn[67], line 1\u001b[0m\n\u001b[0;32m----> 1\u001b[0m scores[\u001b[38;5;241m1\u001b[39m] \u001b[38;5;241m=\u001b[39m \u001b[38;5;241m65\u001b[39m\n",
      "\u001b[0;31mTypeError\u001b[0m: 'tuple' object does not support item assignment"
     ]
    }
   ],
   "source": [
    "scores[1] = 65"
   ]
  },
  {
   "cell_type": "markdown",
   "id": "d4382811-4678-4e6a-b106-1efbff7b5645",
   "metadata": {},
   "source": [
    "##### The way out is using a logic by converting the tuple to a list"
   ]
  },
  {
   "cell_type": "code",
   "execution_count": 74,
   "id": "c40a0666-09ce-4bfd-aa91-8f69ac019753",
   "metadata": {},
   "outputs": [],
   "source": [
    "newScore = list(scores)"
   ]
  },
  {
   "cell_type": "code",
   "execution_count": 76,
   "id": "b35d3080-1219-4aca-8076-7fdb03aba8f3",
   "metadata": {},
   "outputs": [
    {
     "data": {
      "text/plain": [
       "[34, 56, 76, 45, 87]"
      ]
     },
     "execution_count": 76,
     "metadata": {},
     "output_type": "execute_result"
    }
   ],
   "source": [
    "newScore"
   ]
  },
  {
   "cell_type": "code",
   "execution_count": 78,
   "id": "b1d63538-22c6-4523-840a-404f0eb91e54",
   "metadata": {},
   "outputs": [],
   "source": [
    "newScore[1]=65"
   ]
  },
  {
   "cell_type": "code",
   "execution_count": 84,
   "id": "a94e25f9-c7e2-4b41-936c-485ee62d2073",
   "metadata": {},
   "outputs": [],
   "source": [
    "scores = tuple(newScore)"
   ]
  },
  {
   "cell_type": "code",
   "execution_count": 86,
   "id": "a778ecf2-55f1-46b9-8efa-a88cde658f01",
   "metadata": {},
   "outputs": [
    {
     "data": {
      "text/plain": [
       "(34, 65, 76, 45, 87)"
      ]
     },
     "execution_count": 86,
     "metadata": {},
     "output_type": "execute_result"
    }
   ],
   "source": [
    "scores"
   ]
  },
  {
   "cell_type": "code",
   "execution_count": null,
   "id": "40ae1dee-5ad3-4064-935f-8f982279dd3b",
   "metadata": {},
   "outputs": [],
   "source": []
  }
 ],
 "metadata": {
  "kernelspec": {
   "display_name": "anaconda-panel-2023.05-py310",
   "language": "python",
   "name": "conda-env-anaconda-panel-2023.05-py310-py"
  },
  "language_info": {
   "codemirror_mode": {
    "name": "ipython",
    "version": 3
   },
   "file_extension": ".py",
   "mimetype": "text/x-python",
   "name": "python",
   "nbconvert_exporter": "python",
   "pygments_lexer": "ipython3",
   "version": "3.11.5"
  }
 },
 "nbformat": 4,
 "nbformat_minor": 5
}
