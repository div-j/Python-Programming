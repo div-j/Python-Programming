{
 "cells": [
  {
   "cell_type": "code",
   "execution_count": 1,
   "id": "d304863e-92e0-4c60-8bbc-59e52716894b",
   "metadata": {},
   "outputs": [],
   "source": [
    "import pickle"
   ]
  },
  {
   "cell_type": "code",
   "execution_count": 2,
   "id": "0572dfeb-b434-47b6-807e-b9b3d8f6f0b8",
   "metadata": {},
   "outputs": [],
   "source": [
    "data = [34,45,43,32,65]"
   ]
  },
  {
   "cell_type": "markdown",
   "id": "2c6b8b1a-c7ba-4de8-b118-d48093ed041d",
   "metadata": {},
   "source": [
    "#### opening/creating file"
   ]
  },
  {
   "cell_type": "code",
   "execution_count": 68,
   "id": "a495d821-50e7-4782-aa02-81fd5cd0bb93",
   "metadata": {},
   "outputs": [],
   "source": [
    "file = open('serialData.txt','wb+')"
   ]
  },
  {
   "cell_type": "markdown",
   "id": "2d85bc15-143c-4af8-91da-5c07e23bdec3",
   "metadata": {},
   "source": [
    "#### Pickling/serializing"
   ]
  },
  {
   "cell_type": "code",
   "execution_count": 69,
   "id": "5a638453-c6fd-4e64-8ff0-74967b25b37e",
   "metadata": {},
   "outputs": [],
   "source": [
    "pickle.dump(data,file)"
   ]
  },
  {
   "cell_type": "code",
   "execution_count": 70,
   "id": "4a8a1285-925c-4089-8ff8-7ae8d1fc5003",
   "metadata": {},
   "outputs": [
    {
     "data": {
      "text/plain": [
       "b''"
      ]
     },
     "execution_count": 70,
     "metadata": {},
     "output_type": "execute_result"
    }
   ],
   "source": [
    "file.read()"
   ]
  },
  {
   "cell_type": "markdown",
   "id": "c9cffce1-7c9c-416e-8595-6d9bfabf25e9",
   "metadata": {},
   "source": [
    "#### Reading file"
   ]
  },
  {
   "cell_type": "code",
   "execution_count": 71,
   "id": "9e5d2803-3825-47a2-80d6-a16bc89bf7e0",
   "metadata": {},
   "outputs": [],
   "source": [
    "file = open('serialData.txt','rb')"
   ]
  },
  {
   "cell_type": "markdown",
   "id": "96808b94-b06a-4f3e-abad-cb513fd8cfc9",
   "metadata": {},
   "source": [
    "#### unPickling/Deserializing"
   ]
  },
  {
   "cell_type": "code",
   "execution_count": 72,
   "id": "f7cc08c3-54de-4e76-992e-8f799b9405f3",
   "metadata": {},
   "outputs": [],
   "source": [
    "unpickledData = pickle.load(file)"
   ]
  },
  {
   "cell_type": "code",
   "execution_count": 73,
   "id": "db0aca20-3247-40dc-8eaa-614258a7df4a",
   "metadata": {},
   "outputs": [
    {
     "data": {
      "text/plain": [
       "b''"
      ]
     },
     "execution_count": 73,
     "metadata": {},
     "output_type": "execute_result"
    }
   ],
   "source": [
    "file.read()"
   ]
  },
  {
   "cell_type": "code",
   "execution_count": 74,
   "id": "125f52de-00ec-4f6d-877d-6953a5d21cb6",
   "metadata": {},
   "outputs": [
    {
     "data": {
      "text/plain": [
       "[34, 45, 43, 32, 65]"
      ]
     },
     "execution_count": 74,
     "metadata": {},
     "output_type": "execute_result"
    }
   ],
   "source": [
    "unpickledData"
   ]
  },
  {
   "cell_type": "markdown",
   "id": "468c2467-33f2-45e7-b0f3-5fc11b52c67a",
   "metadata": {},
   "source": [
    "#### Using Dumps and loads"
   ]
  },
  {
   "cell_type": "code",
   "execution_count": 79,
   "id": "1eda2218-a5d4-447d-accc-cde6fc82b70e",
   "metadata": {},
   "outputs": [],
   "source": [
    "students = ('Kyle','Mark','Esther','Jordan')"
   ]
  },
  {
   "cell_type": "code",
   "execution_count": 81,
   "id": "b8071f7d-807e-44ea-990f-04e3c4737cbb",
   "metadata": {},
   "outputs": [],
   "source": [
    "newStudents = pickle.dumps(students)"
   ]
  },
  {
   "cell_type": "code",
   "execution_count": 82,
   "id": "ddc1104b-58d4-4095-bab5-9d815b68e6fb",
   "metadata": {},
   "outputs": [
    {
     "name": "stdout",
     "output_type": "stream",
     "text": [
      "b'\\x80\\x04\\x95$\\x00\\x00\\x00\\x00\\x00\\x00\\x00(\\x8c\\x04Kyle\\x94\\x8c\\x04Mark\\x94\\x8c\\x06Esther\\x94\\x8c\\x06Jordan\\x94t\\x94.'\n"
     ]
    }
   ],
   "source": [
    "print(newStudents)"
   ]
  },
  {
   "cell_type": "markdown",
   "id": "c917d331-06dc-498d-ba0b-4bc226356975",
   "metadata": {},
   "source": [
    "#### Json Serialization"
   ]
  },
  {
   "cell_type": "code",
   "execution_count": 75,
   "id": "7775e913-3c07-4455-a1b4-cde1627bab11",
   "metadata": {},
   "outputs": [],
   "source": [
    "import json"
   ]
  },
  {
   "cell_type": "code",
   "execution_count": 76,
   "id": "e82c7eaf-17f7-4140-97e1-21be152e0b8e",
   "metadata": {},
   "outputs": [],
   "source": [
    "data = {'name':'James','age':30,'proffersion':'Developer'}"
   ]
  },
  {
   "cell_type": "code",
   "execution_count": 77,
   "id": "de238a01-d679-4d75-8333-1234004c4e52",
   "metadata": {},
   "outputs": [],
   "source": [
    "serializedData = json.dumps(data)"
   ]
  },
  {
   "cell_type": "code",
   "execution_count": 78,
   "id": "6ee68c1c-0d4a-4d0a-9724-6efdd700c4fe",
   "metadata": {},
   "outputs": [
    {
     "name": "stdout",
     "output_type": "stream",
     "text": [
      "{\"name\": \"James\", \"age\": 30, \"proffersion\": \"Developer\"}\n"
     ]
    }
   ],
   "source": [
    "print(serializedData)"
   ]
  },
  {
   "cell_type": "code",
   "execution_count": null,
   "id": "a9b458ed-0be0-4e28-9aba-81c984ae6fc3",
   "metadata": {},
   "outputs": [],
   "source": []
  },
  {
   "cell_type": "code",
   "execution_count": null,
   "id": "a9534b86-1db1-4125-9255-a515a6875211",
   "metadata": {},
   "outputs": [],
   "source": []
  }
 ],
 "metadata": {
  "kernelspec": {
   "display_name": "Python 3 (ipykernel)",
   "language": "python",
   "name": "python3"
  },
  "language_info": {
   "codemirror_mode": {
    "name": "ipython",
    "version": 3
   },
   "file_extension": ".py",
   "mimetype": "text/x-python",
   "name": "python",
   "nbconvert_exporter": "python",
   "pygments_lexer": "ipython3",
   "version": "3.10.13"
  }
 },
 "nbformat": 4,
 "nbformat_minor": 5
}
